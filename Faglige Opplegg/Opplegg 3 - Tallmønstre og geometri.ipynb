{
 "cells": [
  {
   "cell_type": "markdown",
   "metadata": {},
   "source": [
    "# Opplegg 3 - Tallmønstre og Geometri\n",
    "\n",
    "I dette opplegget leker vi oss med geometri og tallmønstre som dukker opp i matematikk. Vi bruker *skilpaddegrafikk* for å tegne figurer, og gjør beregninger for å finne tall som $\\pi$ og $\\phi$ (det gyldne snitt).\n",
    "\n",
    "Dette opplegget bygger på en del lik programmering som [Opplegg 1 (Tilfeldige Tall og Simuleringer)](Opplegg 1 - Tilfeldige Tall og Simuleringer.ipynb), og vi gjentar ikke alt her. Det lønner seg derfor å først skumme igjennom det andre opplegget, og så denne.\n",
    "\n",
    "**Plan** \n",
    "\n",
    "Dette opplegget er delt i tre hovedbolker. Først ser på skilpaddegrafikk, og hvordan vi kan bruke dette til å tegne enkle geometriske figurer som regulære mangekanter. Dette gir en god diskusjon av geometriske former, vinkler, og lignende. Man må se mønstrene i formene for å kunne skrive koden som generer dem. Deretter snur vi til å beregne $\\pi$ ved å gjennomføre et digitalt eksperiment. Til slutt går vi inn på Fibonnacitall, hvor vi ser hvordan vi kan beregne dem ved hjelp av datamaskin, og hvorfor de er spennende.\n",
    "\n",
    "**Kompetansemål**\n",
    "* **Matematikk**\n",
    "    1. Beskrive, forklare og presentere strukturer og forandringer i geometriske mønstre og tallmønstre\n",
    "    2. Bruke faktorar, potensar, kvadratrøter og primtal i berekningar\n",
    "    3. Utforske, eksperimentere med og formulere logiske resonnement ved hjelp av geometriske idear og gjere greie for geometriske forhold som har særleg mykje å seie i teknologi, kunst og arkitektur\n",
    "    4. Gjere greie for talet π og bruke det i berekningar av omkrins, areal og volum\n",
    "    5. Finne og diskutere sannsyn gjennom eksperimentering, simulering og berekning i dagligdagse samanhengar og spel\n"
   ]
  },
  {
   "cell_type": "markdown",
   "metadata": {},
   "source": [
    "# Skilpaddegrafikk\n",
    "\n"
   ]
  },
  {
   "cell_type": "markdown",
   "metadata": {},
   "source": [
    "I 1970 lagde MIT en robot for å hjelpe barn å lære programmering. Roboten kunne programmeres til å kjøre rundt ved hjelp av et programmeringsspråk som heter logo. På robotens underside kunne man feste en tusj, slik at den tegnet en strek der den kjørte, og på den måten kunne man tegne en tegning ved hjelp av kode. Disse robotene ble kalt for \"floor turtles\", eller bare \"turtles\". Et år senere ble Logo oppdatert til også å kunne tegne grafikk på dataskjermen, ved å bruke samme kommandoer som man brukte til å styre robotskilpadden. Dette er kjent som *turtle graphics*, eller skilpaddegrafikk på norsk.\n",
    "\n",
    "En tidlig \"floor turtle\" fra MIT. Det finnes mange forskjellige modeller, med forskjellig utseende. \n",
    "<img src=\"http://mstatic.mit.edu/nom150/items/2007.019.001.jpg\" width=200>\n",
    "(Kilde: [MIT Museum](http://museum.mit.edu/nom150/entries/1158))\n",
    "\n",
    "Skilpaddegrafikk har blitt en meget populær måte å lære programmering og leke seg med stoffet, de fleste moderne programmeringsspråk støtter derfor skilpaddegrafikk - dette inkluderer scratch. I Python er det også laget en pakke for å kunne drive med skilpaddegrafikk, og denne heter passende nok `turtle`. La oss bruke `turtle`-pakken til å tegne litt forskjellige geometriske figurer."
   ]
  },
  {
   "cell_type": "markdown",
   "metadata": {},
   "source": [
    "### Lage skilpadder\n",
    "\n",
    "En skilpadde er et eget *objekt* i Python, så vi må først opprette en *skilpaddevariabel* på samme måte som vi har laget andre variabler før. Dette gjør vi som følger"
   ]
  },
  {
   "cell_type": "code",
   "execution_count": 1,
   "metadata": {},
   "outputs": [],
   "source": [
    "import turtle\n",
    "\n",
    "arthur = turtle.Turtle()"
   ]
  },
  {
   "cell_type": "markdown",
   "metadata": {},
   "source": [
    "Her importerer vi først skilpaddepakken `turtle`. Deretter opretter vi en skilpaddevariabel ved å bruke `turtle.Turtle()`. Vi kaller denne for `arthur`, inspirert av bildet over.\n",
    "\n",
    "Når vi kjører koden skal det dukke opp et nytt vindu. Her er alt hvitt, mens vi ser en liten svart pil i midten. Denne pilen er Arthur, skilpadden vår. For nå står den helt stille, for vi har ikke gitt den noen kommandoer enda.\n",
    "\n",
    "Det kan være litt vanskelig å se skilpadden fordi den er så liten, så la oss gjøre den litt større. Kanskje man også vil at det skal se ut som en ekte skilpadde og ikke en pil, så det kan vi også gjøre"
   ]
  },
  {
   "cell_type": "code",
   "execution_count": 2,
   "metadata": {},
   "outputs": [],
   "source": [
    "arthur.shape('turtle')\n",
    "arthur.shapesize(3)"
   ]
  },
  {
   "cell_type": "markdown",
   "metadata": {},
   "source": [
    "Her er `arthur.shape()` et slags funksjonskall, men funksjonen vi kaller hører til `arthur`-objektet vårt og vil derfor påvirke `arthur`. Slike funksjoner kalles *metoder* (\"methdos\") i Python. La oss se på hvordan vi kan flytte Arthur rundt på arket sitt.\n",
    "\n",
    "Arthur flyttes rundt med spesifikke metoder, den første vi bruker er `forward(100)`. Her er tallet antall steg Arthur skal gå. Enheten er ganske liten, så vi begynner med 100"
   ]
  },
  {
   "cell_type": "code",
   "execution_count": 3,
   "metadata": {},
   "outputs": [],
   "source": [
    "arthur.forward(100)"
   ]
  },
  {
   "cell_type": "markdown",
   "metadata": {},
   "source": [
    "Når Arthur går fremover tegner han en strek på bakken der han har gått. Arthur kan også gå baklengs med `backward(100)`. Vi kan se at han går på skjermen, og vi kan justere hastigheten med `arthur.speed()`, her er 1 den laveste hastigheten, og 11 eller høyere det raskeste. La oss sette den til minimum så vi ser Arthur i bevegelse"
   ]
  },
  {
   "cell_type": "code",
   "execution_count": 4,
   "metadata": {},
   "outputs": [],
   "source": [
    "arthur.speed(1)\n",
    "arthur.forward(100)"
   ]
  },
  {
   "cell_type": "markdown",
   "metadata": {},
   "source": [
    "For å svinge bruker vi `left` og `right` som vrir Arthur et visst antall grader til venstre eller høyre. Arthur vrir på stedet, så `left` og `right` vil ikke flytte på hvor skilpadden befinner seg"
   ]
  },
  {
   "cell_type": "code",
   "execution_count": 5,
   "metadata": {},
   "outputs": [],
   "source": [
    "arthur.left(90)"
   ]
  },
  {
   "cell_type": "markdown",
   "metadata": {},
   "source": [
    "Nå som skilpadden har vridd seg til venstre kan vi gå fremover igjen"
   ]
  },
  {
   "cell_type": "code",
   "execution_count": 6,
   "metadata": {},
   "outputs": [],
   "source": [
    "arthur.forward(200)"
   ]
  },
  {
   "cell_type": "markdown",
   "metadata": {},
   "source": [
    "Vi kan nå for eksempel lage en firkant ved å gjenta denne operasjonen"
   ]
  },
  {
   "cell_type": "code",
   "execution_count": 7,
   "metadata": {},
   "outputs": [],
   "source": [
    "arthur.left(90)\n",
    "arthur.forward(200)\n",
    "arthur.left(90)\n",
    "arthur.forward(200)"
   ]
  },
  {
   "cell_type": "markdown",
   "metadata": {},
   "source": [
    "Vi kan nå lage en funksjon som får Arthur til å tegne en firkant"
   ]
  },
  {
   "cell_type": "code",
   "execution_count": 8,
   "metadata": {},
   "outputs": [],
   "source": [
    "def firkant(bredde):\n",
    "    arthur.forward(bredde)\n",
    "    arthur.left(90)\n",
    "    arthur.forward(bredde)\n",
    "    arthur.left(90)\n",
    "    arthur.forward(bredde)\n",
    "    arthur.left(90)\n",
    "    arthur.forward(bredde)\n",
    "    arthur.left(90)\n",
    "    \n",
    "firkant(400)"
   ]
  },
  {
   "cell_type": "markdown",
   "metadata": {},
   "source": [
    "Merk at vi legger til en siste `left(90)`, sånn at skilpadden ender opp i samme vinkel som den begynte. \n",
    "\n",
    "Denne funksjonen gjør jobben, men den er ikke særlig elegant, for vi bare gjentar kode mange ganger. Når man gjentar kode er det tegn på at man kanskje vil bruke en løkke"
   ]
  },
  {
   "cell_type": "code",
   "execution_count": 9,
   "metadata": {},
   "outputs": [],
   "source": [
    "def firkant(bredde):\n",
    "    for kant in range(4):\n",
    "        arthur.forward(bredde)\n",
    "        arthur.left(90)\n",
    "        \n",
    "firkant(300)"
   ]
  },
  {
   "cell_type": "markdown",
   "metadata": {},
   "source": [
    "En annen ting vi kan forbedre er at funksjonen vi har skrevet krever at skilpaddevariabelen vår heter `arthur`, dette er ikke særlig feksibelt (dette kalles for \"hardkoding\"). Men hvordan kan vi ellers gjøre det? Vel, la oss si vi ønsker å kalle på funksjonen på denne måten: `firkant(arthur, 200)` som betyr at `arthur` skal tegne en firkant"
   ]
  },
  {
   "cell_type": "code",
   "execution_count": 10,
   "metadata": {},
   "outputs": [],
   "source": [
    "def firkant(skilpadde, bredde):\n",
    "    for kan in range(4):\n",
    "        skilpadde.forward(bredde)\n",
    "        skilpadde.left(90)\n",
    "        \n",
    "firkant(arthur, 200)"
   ]
  },
  {
   "cell_type": "markdown",
   "metadata": {},
   "source": [
    "Det er fint at `firkant` funksjonen nå kan brukes på alle skilpaddvariabler, for kanskje vi har lyst å lage flere skilpadder på samme ark, dette kan enkelt gjøres som følger"
   ]
  },
  {
   "cell_type": "code",
   "execution_count": 11,
   "metadata": {},
   "outputs": [],
   "source": [
    "benedicte = turtle.Turtle()\n",
    "benedicte.shape('turtle')\n",
    "benedicte.shapesize(3)\n",
    "benedicte.speed(1)\n",
    "benedicte.color('red')"
   ]
  },
  {
   "cell_type": "markdown",
   "metadata": {},
   "source": [
    "Nå har vi laget en til skilpadde. Vi har brukt `color` til å gjøre Benedicte rød, så vi lettere kan skille på de to skilpaddene våre, dette påvirker både skilpadden og pennen. Vi kan nå bruke `firkant` på enten Arthur, eller Benedicte"
   ]
  },
  {
   "cell_type": "code",
   "execution_count": 12,
   "metadata": {},
   "outputs": [],
   "source": [
    "firkant(benedicte, 400)"
   ]
  },
  {
   "cell_type": "markdown",
   "metadata": {},
   "source": [
    "**Eksempeloppgave:** Hvordan kan du bruke `firkant`-funksjonen til å tegne en firkant på skrå?\n",
    "\n",
    "**Fasit:** Funksjonen begynner med å gå rett frem, så om vi starter med en skilpadde vinklet på skrå blir automatisk firkanten også det."
   ]
  },
  {
   "cell_type": "code",
   "execution_count": 13,
   "metadata": {},
   "outputs": [],
   "source": [
    "benedicte.left(45)\n",
    "firkant(benedicte, 200)"
   ]
  },
  {
   "cell_type": "markdown",
   "metadata": {},
   "source": [
    "**Eksempeloppgave:** `firkant`-funksjonen vi har laget tegner bare kvadrater. Lag en  funksjon som tegner et rektangel. Kall funksjonen din: `rektangel(skilpadde, bredde, høyde)`\n",
    "\n",
    "**Fasit:**"
   ]
  },
  {
   "cell_type": "code",
   "execution_count": 14,
   "metadata": {},
   "outputs": [],
   "source": [
    "def rektangel(skilpadde, bredde, høyde):\n",
    "    for i in range(2):\n",
    "        skilpadde.forward(bredde)\n",
    "        skilpadde.left(90)\n",
    "        skilpadde.forward(høyde)\n",
    "        skilpadde.left(90)\n",
    "        \n",
    "rektangel(arthur, 100, 200)"
   ]
  },
  {
   "cell_type": "markdown",
   "metadata": {},
   "source": [
    "### Tegne Mangekanter\n",
    "\n",
    "Nå som vi har sett hvordan vi kan bruke skilpaddegrafikk til å tegne firkanter, la oss prøve å tegne andre regulære mangekanter (regulære betyr at alle vinklene er like store og alle sidene like lange, som for eksempel et kvadrat.\n",
    "\n",
    "La oss først nullstille tegneflaten. Vi kan nå enten lukke hele vinduet ved å bruke `turtle.bye()` og deretter lage en ny skilpadde. Eller så kan vi sende skilpaddene \"hjem\" ved hjelp av `home`, og så bruke `clear` for å tømme skjermen"
   ]
  },
  {
   "cell_type": "code",
   "execution_count": 15,
   "metadata": {},
   "outputs": [],
   "source": [
    "for skilpadde in [arthur, benedicte]:\n",
    "    skilpadde.home()\n",
    "    skilpadde.clear()"
   ]
  },
  {
   "cell_type": "markdown",
   "metadata": {},
   "source": [
    "#### Trekant\n",
    "\n",
    "La oss nå tegne en trekant. For at skilpadden skal ende samme sted som den begynner etter å ha tegnet de tre kantene må vi vite hvor mange grader den skal snu i hvert hjørne. En likesidet trekant har 60 grader i hver vinkel, så la oss prøve det:"
   ]
  },
  {
   "cell_type": "code",
   "execution_count": 16,
   "metadata": {},
   "outputs": [],
   "source": [
    "def trekant(skilpadde, bredde):\n",
    "    for kant in range(3):\n",
    "        skilpadde.forward(bredde)\n",
    "        skilpadde.left(60)\n",
    "        \n",
    "trekant(arthur, 200)"
   ]
  },
  {
   "cell_type": "markdown",
   "metadata": {},
   "source": [
    "Ops! Det gikk ikke helt som forventet. Hva var det som skjedde? Når skilpadden snur 60 grader og så fortsetter, ser vi at den tegner en vinkel på faktisk 120 grader! Om skilpadden ikke snur i det heletatt og beveger seg videre er det jo litt som at den lager en vinkel med 180 grader, så vi ser at vinkelen som blir laget er $180 - x$, der $x$ er antall grader vi ber skilpadden snu. (Tegn en liten figur, så ser du dette litt tydligere). \n",
    "\n",
    "Så i trekantfunksjonen vår vil vi at skilpadden skal lage en vinkel på 60, så da må vi be den snu 120 grader siden $180 - 120 = 60$. Da får vi:"
   ]
  },
  {
   "cell_type": "code",
   "execution_count": 17,
   "metadata": {},
   "outputs": [],
   "source": [
    "def trekant(skilpadde, bredde):\n",
    "    for kant in range(3):\n",
    "        skilpadde.forward(bredde)\n",
    "        skilpadde.left(120)\n",
    "        \n",
    "trekant(benedicte, 200)"
   ]
  },
  {
   "cell_type": "markdown",
   "metadata": {},
   "source": [
    "Der satt den! \n",
    "\n",
    "Istedet for å tenke masse på hvor mye skilpadden skal snu hver gang, så kan vi også bare tenke at etter hele figuren er tegnet, så skal skilpadden være tilbake der den startet *og peke samme retning*, det betyr at skilpadden må ha rotert 360 grader totalt mens den lagde figuren. Så uansett hvilken mangekant vi ønsker å tegne, så vil skilpadden snu $360/n$ grader, der $n$ er antall kanter i figuren. \n",
    "\n",
    "Vi ser at denne formelen fungerer for trekant: $360/3 = 120$ og firkant: $360/4 = 90$. La oss prøve den på en femkant."
   ]
  },
  {
   "cell_type": "markdown",
   "metadata": {},
   "source": [
    "#### Femkant\n",
    "\n",
    "Nå skal vi prøve å tegne en femkant. Da må skilpadden vår snu seg $360/5 = 72$ grader for hver kant. Da får vi følgende funksjon: "
   ]
  },
  {
   "cell_type": "code",
   "execution_count": 18,
   "metadata": {},
   "outputs": [],
   "source": [
    "def femkant(skilpadde, bredde):\n",
    "    for kant in range(5):\n",
    "        skilpadde.forward(bredde)\n",
    "        skilpadde.left(72)\n",
    "\n",
    "arthur.home()\n",
    "arthur.clear()\n",
    "femkant(arthur, 300)"
   ]
  },
  {
   "cell_type": "markdown",
   "metadata": {},
   "source": [
    "**Eksempeloppgave:** Nå er det din tur til å prøve. Lag en funksjon som tegner sekskanter.\n",
    "\n",
    "**Fasit:**"
   ]
  },
  {
   "cell_type": "code",
   "execution_count": 19,
   "metadata": {},
   "outputs": [],
   "source": [
    "def sekskant(skilpadde, bredde):\n",
    "    for kant in range(6):\n",
    "        skilpadde.forward(bredde)\n",
    "        skilpadde.left(60)\n",
    "\n",
    "sekskant(benedicte, 150)"
   ]
  },
  {
   "cell_type": "markdown",
   "metadata": {},
   "source": [
    "**Eksempeloppgave:** Lag en funksjon som tegner en regulær mangekant hvor man kan sende inn antall kanter. Kall funksjonen din `mangekant(skilpadde, n, bredde)`, der `n` er antall kanter.\n",
    "\n",
    "**Fasit:**"
   ]
  },
  {
   "cell_type": "code",
   "execution_count": 20,
   "metadata": {},
   "outputs": [],
   "source": [
    "def mangekant(skilpadde, n, bredde):\n",
    "    for i in range(n):\n",
    "        skilpadde.forward(bredde)\n",
    "        skilpadde.left(360/n)\n",
    "        \n",
    "mangekant(arthur, 8, 100)"
   ]
  },
  {
   "cell_type": "markdown",
   "metadata": {},
   "source": [
    "Nå som vi har tegnet forskjellige mangekanter kan vi bruke litt tid til å tenke på vinklene. I en trekant har vi tre vinkler på 60 grader, som til sammen blir 180 grader. I en firkant har vi fire vinkler på 90 grader, som blir 360 grader. I en femkant har vi fem vinkler, hver på 108 grader, som blir 540 grader. Og i en sekskant har vi 6 vinkler på 120 grader, som blir totalt 720 grader.\n",
    "\n",
    "Vi ser at vinklene i figurene blir litt større hver gang, og vi får en vinkel mer, dette gjør at det totale antall grader i figuren øker med 180 hver gang vi legger til en til kant. Er ikke det litt rart?"
   ]
  },
  {
   "cell_type": "markdown",
   "metadata": {},
   "source": [
    "<img src=\"fig/mangekanter.png\" width=700></img>"
   ]
  },
  {
   "cell_type": "markdown",
   "metadata": {},
   "source": [
    "**Eksempeloppgave:** Hvis du har fått til å lage en funksjon, prøv å bruk funksjonen din til å tegne noe som ligner på en sirkel!\n",
    "\n",
    "**Fasit:**"
   ]
  },
  {
   "cell_type": "code",
   "execution_count": 21,
   "metadata": {},
   "outputs": [],
   "source": [
    "mangekant(benedicte, 20, 30)"
   ]
  },
  {
   "cell_type": "markdown",
   "metadata": {},
   "source": [
    "En regulær mangekant vil begynne å ligne på en sirkel når det får veldig mange kanter. Men det er litt slitsomt å bruke mangekanter på denne måten, så skilpaddene har faktisk en innebygd `circle` metode, som tegner en \"perfekt\" sirkel med en gitt radius."
   ]
  },
  {
   "cell_type": "code",
   "execution_count": 22,
   "metadata": {},
   "outputs": [],
   "source": [
    "arthur.circle(200)"
   ]
  },
  {
   "cell_type": "code",
   "execution_count": 23,
   "metadata": {},
   "outputs": [],
   "source": [
    "for skilpadde in [arthur, benedicte]:\n",
    "    skilpadde.home()\n",
    "    skilpadde.clear()"
   ]
  },
  {
   "cell_type": "markdown",
   "metadata": {},
   "source": [
    "Vi kan også bruke `circle` til å tegne halvsirkler, eller korte sirkelbuer. Da sender vi bare inn antall grader som skal tegnes som et til argument"
   ]
  },
  {
   "cell_type": "code",
   "execution_count": 24,
   "metadata": {},
   "outputs": [],
   "source": [
    "arthur.circle(200, 90)"
   ]
  },
  {
   "cell_type": "markdown",
   "metadata": {},
   "source": [
    "Merk at circle til vanlig alltid går mot klokka, om vi ønsker å gå med klokka sender vi inn radiusen som et negativt tall. Om vi sender inn antall grader som et negativt tall går skilpadden baklengs i en sirkel."
   ]
  },
  {
   "cell_type": "code",
   "execution_count": 25,
   "metadata": {},
   "outputs": [],
   "source": [
    "benedicte.circle(-200, 90)"
   ]
  },
  {
   "cell_type": "markdown",
   "metadata": {},
   "source": [
    "Vi kan bruke dette til å lage spiraler. Om vi bruker `circle` til å gå litt og litt av en sirkel, men øker radien litt og litt, får vi en spiral som går utover."
   ]
  },
  {
   "cell_type": "code",
   "execution_count": 26,
   "metadata": {},
   "outputs": [],
   "source": [
    "for skilpadde in [arthur, benedicte]:\n",
    "    skilpadde.home()\n",
    "    skilpadde.clear()\n",
    "    \n",
    "for i in range(72):\n",
    "    arthur.circle(5*i, 10)"
   ]
  },
  {
   "cell_type": "markdown",
   "metadata": {},
   "source": [
    "### Kunst\n",
    "\n",
    "Vi har sett hvordan vi kan lage regulære mangekanter ved å passe på at antall grader i hver vinkel er akkurat riktig for at skilpadden skal ende opp akkurat der den startet. Men om vi velger \"feil\" antall grader og gjentar prosessen mange ganger får vi et stilig mønster. La oss prøve"
   ]
  },
  {
   "cell_type": "code",
   "execution_count": 27,
   "metadata": {},
   "outputs": [],
   "source": [
    "# Setter opp farten, så det går litt fortere\n",
    "arthur.speed(5)"
   ]
  },
  {
   "cell_type": "code",
   "execution_count": 28,
   "metadata": {},
   "outputs": [],
   "source": [
    "for skilpadde in [arthur, benedicte]:\n",
    "    skilpadde.home()\n",
    "    skilpadde.clear()\n",
    "\n",
    "for i in range(36):\n",
    "    arthur.forward(200)\n",
    "    arthur.left(56)"
   ]
  },
  {
   "cell_type": "markdown",
   "metadata": {},
   "source": [
    "Vi kan også gjøre andre ting for å lage kule mønstre, vi kan for eksempel tegne mange firkanter, med litt forskjellig vinkel"
   ]
  },
  {
   "cell_type": "code",
   "execution_count": 29,
   "metadata": {},
   "outputs": [],
   "source": [
    "for skilpadde in [arthur, benedicte]:\n",
    "    skilpadde.home()\n",
    "    skilpadde.clear()\n",
    "\n",
    "for i in range(36):\n",
    "    arthur.left(10)\n",
    "    firkant(arthur, 200)"
   ]
  },
  {
   "cell_type": "markdown",
   "metadata": {},
   "source": [
    "Dette er bare begynnelsen av hva man kan begynne å lage med skilpaddegrafikk og her er det bare å leke seg. Det finnes mange eksempler og ressurser man kan bruke på nett for inspirasjon. Her kan vi spesielt anbefale å ta en titt på [Kids Koder sine Python oppgaver](http://oppgaver.kidsakoder.no/python/index.html), hvor det er en del skilpaddeoppgaver. De mest kompliserte av disse går ut på å tegne fraktaler ved hjelp av skilpaddegrafikk. \n",
    "\n",
    "Her er et Koch snøflak, en type fraktal man kan forholdsvis enkelt tegne med skilpaddegrafikk\n",
    "<img src=\"http://oppgaver.kidsakoder.no/python/skilpaddefraktaler/skilpaddefraktaler.png\" width=300>\n",
    "(Kilde: [Kidsa Koder](http://oppgaver.kidsakoder.no/python/skilpaddefraktaler/skilpaddefraktaler.html))"
   ]
  },
  {
   "cell_type": "markdown",
   "metadata": {},
   "source": [
    "Lenger nede skal vi diskutere Fibonaccirekka litt, og vi trekker inn litt skilpaddegrafikk der. Ellers lar vi det ligge for nå. Derfor lukker vi skilpaddevinduet vårt."
   ]
  },
  {
   "cell_type": "code",
   "execution_count": 30,
   "metadata": {},
   "outputs": [],
   "source": [
    "turtle.bye()"
   ]
  },
  {
   "cell_type": "markdown",
   "metadata": {},
   "source": [
    "# Kaste dart for å finne $\\pi$ \n",
    "\n",
    "De fleste vet nok at $\\pi \\approx 3.14$, men la oss si vi har glemt dette fullstending. Eller at vi ønsker å finne flere desimaler av $\\pi$, hvordan kan vi gjøre dette? Vi skal nå ta en nærmere titt på hvordan vi kan kjøre et eksperiment for å finne tallet $\\pi$. Tallet $\\pi$ er jo meget viktig i geometri, og det har mange spennende egenskaper, som for eksempel at det er irrasjonelt, som betyr at det har uendelig mange desimaltall som aldri gjentar seg selv.\n",
    "\n",
    "Eksperimentet vi skal gjøre for å finne $\\pi$ er å kaste dartpiler på en blink. Hvis vi antar at vi ikke er så flinke til å kaste, så kan vi si at dartpilene vil havne tilfeldige steder på blinken. Vi kan da telle antallet dartpiler som treffer blinken, og antallet som bommer på blinken, for å estimere $\\pi$.\n",
    "\n",
    "Anta at vi har skrevet ut blinken vår på et stort ark og klippet det til et kvadrat. På kvadratet er blinken tegnet inn som en stor sirkel. Sirkelen har en radius på 1, og kvadratet har sider på lengde 2. Det meste av arket er altså dekket av sirkelen, men hjørnene regnes som \"bom\".\n",
    "\n"
   ]
  },
  {
   "cell_type": "markdown",
   "metadata": {},
   "source": [
    "<img src=\"fig/dartskive.png\" width=250>\n",
    "\n",
    "Hvis vi antar at hver dartpil havner et helt tilfeldig sted på hele arket, så vil sannsynligheten for å treffe innenfor sirkelen være gitt ved arealet av sirkelen. Vi kan bruke formelen\n",
    "$$\\frac{\\text{Antall treff}}{\\text {Antall kast}} = \\frac{\\text{Areal av dartksive}}{\\text{Totalt Areal}}$$\n",
    "\n",
    "Arealet av sirkelen er gitt ved formelen $A = \\pi r^2$. Siden radiusen er 1 blir arealet til sirkelen bare $\\pi$. Firkanten har sider på lengde 2, så arealet til firkanten blir $2*2=4$. Da vet vi at\n",
    "$$\\frac{\\text{Antall treff}}{\\text {Antall kast}} = \\frac{\\pi}{4}.$$\n",
    "Det vi ønsker å gjøre nå er løse denne ligningen for vår ukjente, som i dette tilfellet er $\\pi$. Hvis vi ganger med 4 på begge sider av likhetstegnet får vi nå\n",
    "$$\\pi = 4\\cdot \\frac{\\text{Antall treff}}{\\text {Antall kast}}.$$\n",
    "Så hvis vi kaster masse darts helt tilfeldig på dartskiva, så kan vi telle antallet som treffer innenfor skiva, og bruke denne formelen til å regne oss frem til $\\pi$.\n"
   ]
  },
  {
   "cell_type": "markdown",
   "metadata": {},
   "source": [
    "### Å kaste dart for hånd\n",
    "\n",
    "I youtube videoen under gjør to personer dette eksperimentet i virkeligheten, og de finner ut at det er litt vanskelig. For det første ønsker vi å kaste flest mulig piler, for jo fler piler vi kaster, jo fler desimaler får vi (dette garanteres av store talls lov). Men det å kaste tusenvis av piler kan fort bli slitsomt. I tillegg er vi faktisk litt *for flinke* til å kaste, og det er veldig viktig for at eksperimentet at vi kaster tilfeldig. Samtidig må vi også ignorere alle piler som havner utenfor blinken! I videoen ender de opp med å designe en litt mer komplisert blink, og snur denne baklengs, slik at de ikke ser den. På den måten kaster de i blinde, og litt mer tilfeldig - dette forbedrer eksperimentet, og de kommer til slutt frem til et bra estimat."
   ]
  },
  {
   "cell_type": "code",
   "execution_count": 31,
   "metadata": {},
   "outputs": [
    {
     "data": {
      "text/html": [
       "<iframe width=\"560\" height=\"315\" src=\"https://www.youtube.com/embed/M34TO71SKGk\" frameborder=\"0\" allow=\"autoplay; encrypted-media\" allowfullscreen></iframe>"
      ],
      "text/plain": [
       "<IPython.core.display.HTML object>"
      ]
     },
     "execution_count": 31,
     "metadata": {},
     "output_type": "execute_result"
    }
   ],
   "source": [
    "from IPython.display import HTML\n",
    "HTML('<iframe width=\"560\" height=\"315\" src=\"https://www.youtube.com/embed/M34TO71SKGk\" frameborder=\"0\" allow=\"autoplay; encrypted-media\" allowfullscreen></iframe>')"
   ]
  },
  {
   "cell_type": "markdown",
   "metadata": {},
   "source": [
    "Link til videoen: https://www.youtube.com/watch?v=M34TO71SKGk"
   ]
  },
  {
   "cell_type": "markdown",
   "metadata": {},
   "source": [
    "### Å kaste dart på datamaskin\n",
    "\n",
    "Det kan være lurt å kaste dart for hånd og estimere $\\pi$ for å få en bedre følelse for eksperimentet og se hvor nærme vi kommer. Deretter kan vi gjøre det i Python. Fordelen er nå at vi kan kaste veldig mange flere piler uten problemer. Samtidig er Python langt bedre på å kaste tilfeldig enn oss mennesker, og vi kan være sikre på at dartpilene faktisk havner et helt tilfeldig sted på blinken (om vi programmerer riktig hvertfall!)."
   ]
  },
  {
   "cell_type": "code",
   "execution_count": 32,
   "metadata": {},
   "outputs": [],
   "source": [
    "from pylab import *"
   ]
  },
  {
   "cell_type": "markdown",
   "metadata": {},
   "source": [
    "Å kaste en dartpil i programmet vårt er det samme som å finne ut hvor den havner på blinken. Det vil si at vi ønsker å finne koordinatene $(x, y)$. Hvis vi ser på figuren vår over ser vi at koordinatsystemet vårt går fra -1 til 1 for begge disse koordinatene. Siden vi vil at det skal være like sannsynlig at pilen havner på hele blinken ønsker vi å trekke *uniformt*-fordelte tall. I opplegg #1 lærte vi at dette kan gjøres med funksjonen `uniform` som følger"
   ]
  },
  {
   "cell_type": "code",
   "execution_count": 33,
   "metadata": {},
   "outputs": [
    {
     "name": "stdout",
     "output_type": "stream",
     "text": [
      "0.40206546715898916 -0.2491855578164579\n"
     ]
    }
   ],
   "source": [
    "x = uniform(-1, 1)\n",
    "y = uniform(-1, 1)\n",
    "print(x, y)"
   ]
  },
  {
   "cell_type": "markdown",
   "metadata": {},
   "source": [
    "Her får vi koordinatene av hvor pilen havnet. Det er kanskje litt lite håndfast. La oss tegne opp blinken og pilkastene for å se hvordan det ser ut. Vi lager først en funksjon for å tegne det tomme blinken. Denne funksjonen er noe komplisert. Først bruker vi parameterfremstilling for å tegne sirkelen, deretter tegner vi en firkant. Til slutt bruker vi `axis('equal')` og `axis('none')` for å sørge for at blinken vises kvadratisk, og at vi ikke tegner på aksene."
   ]
  },
  {
   "cell_type": "code",
   "execution_count": 34,
   "metadata": {},
   "outputs": [
    {
     "data": {
      "image/png": "[encoded data removed]",
      "text/plain": [
       "<matplotlib.figure.Figure at 0x7fbd6ee9dac8>"
      ]
     },
     "metadata": {},
     "output_type": "display_data"
    }
   ],
   "source": [
    "def tegn_blink():\n",
    "    theta = linspace(0, 360, 1001)\n",
    "    plot(cos(theta), sin(theta))\n",
    "    plot((-1, -1, 1, 1, -1), (-1, 1, 1, -1, -1), color='black')\n",
    "    axis('equal')\n",
    "    axis('off')\n",
    "    \n",
    "    \n",
    "tegn_blink()\n",
    "show()"
   ]
  },
  {
   "cell_type": "markdown",
   "metadata": {},
   "source": [
    "Og nå kan vi kaste et par piler på blinken og se hvor de havner"
   ]
  },
  {
   "cell_type": "code",
   "execution_count": 35,
   "metadata": {},
   "outputs": [
    {
     "data": {
      "image/png": "[encoded data removed]",
      "text/plain": [
       "<matplotlib.figure.Figure at 0x7fbd9802ed30>"
      ]
     },
     "metadata": {},
     "output_type": "display_data"
    }
   ],
   "source": [
    "tegn_blink()\n",
    "\n",
    "for kast in range(10):\n",
    "    x = uniform(-1, 1)\n",
    "    y = uniform(-1, 1)\n",
    "    plot(x, y, 'x', color='black', markersize=8)\n",
    " \n",
    "show()"
   ]
  },
  {
   "cell_type": "markdown",
   "metadata": {},
   "source": [
    "Vi får nå kryss der dartpilene har truffet. Nå klarer vi jo å se om vi har truffet eller ikke. Men det blir slitsomt om vi skal telle alle treffene og bommene selv, spesielt om vi har tusenvis av kryss! Så hvordan kan vi få datamaskinen til selv å sjekke om den har truffet eller ikke? Her må vi tenke geometrisk. Sirkelen har sentrum i 0 og radius 1. Om avstanden fra der dartpilen traff til sentrum er 1 eller mindre har vi altså truffet blinkskiva, om avstanden er større enn 1 så må vi ha bommet. Hvordan regner vi ut avstanden fra dartpilen til sentrum? Vi kan tegne opp denne avstanden som en rettvinklet trekant, der avstanden er hypotenusen og de to katetene er $x$ og $y$. Altså kan vi bruke Pytagoras til å finne avstanden, og en if-test for å si om vi traff eller ikke:"
   ]
  },
  {
   "cell_type": "code",
   "execution_count": 36,
   "metadata": {},
   "outputs": [
    {
     "name": "stdout",
     "output_type": "stream",
     "text": [
      "0.584144891189754 -0.5305218896095425\n",
      "0.7890999488391627\n",
      "Treff!\n"
     ]
    }
   ],
   "source": [
    "x = uniform(-1, 1)\n",
    "y = uniform(-1, 1)\n",
    "print(x, y)\n",
    "\n",
    "avstand = sqrt(x**2 + y**2)\n",
    "print(avstand)\n",
    "\n",
    "if avstand <= 1:\n",
    "    print(\"Treff!\")\n",
    "else:\n",
    "    print(\"Bom!\")"
   ]
  },
  {
   "cell_type": "markdown",
   "metadata": {},
   "source": [
    "Vi kan også tegne en ny blink, der vi farger kryssene grønn om vi har treff, og røde om vi har bom, for å sjekke at vi har programmert riktig"
   ]
  },
  {
   "cell_type": "code",
   "execution_count": 37,
   "metadata": {},
   "outputs": [
    {
     "data": {
      "image/png": "[encoded data removed]",
      "text/plain": [
       "<matplotlib.figure.Figure at 0x7fbd6ce22cf8>"
      ]
     },
     "metadata": {},
     "output_type": "display_data"
    }
   ],
   "source": [
    "tegn_blink()\n",
    "\n",
    "for kast in range(30):\n",
    "    x = uniform(-1, 1)\n",
    "    y = uniform(-1, 1)\n",
    "    \n",
    "    avstand = sqrt(x**2 + y**2)\n",
    "    \n",
    "    if avstand <= 1:\n",
    "        plot(x, y, 'x', color='green', markersize=8)\n",
    "    else:\n",
    "        plot(x, y, 'x', color='red', markersize=8)\n",
    "        \n",
    "show()"
   ]
  },
  {
   "cell_type": "markdown",
   "metadata": {},
   "source": [
    "Da er vi klare for å faktisk estimere $\\pi$. Denne ganger bruker vi igjen en løkke for å kaste mange piler, men istedet for å tegne dem inn på blinken, bruker vi tellevariabler for å holde tellingen på antall treff og bom"
   ]
  },
  {
   "cell_type": "code",
   "execution_count": 38,
   "metadata": {},
   "outputs": [
    {
     "name": "stdout",
     "output_type": "stream",
     "text": [
      "Treff: 798\n",
      "Bom:   202\n"
     ]
    }
   ],
   "source": [
    "antall_kast = 1000\n",
    "\n",
    "treff = 0\n",
    "bom = 0\n",
    "\n",
    "for i in range(antall_kast):\n",
    "    x = uniform(-1, 1)\n",
    "    y = uniform(-1, 1)\n",
    "    d = sqrt((x**2 + y**2))\n",
    "    \n",
    "    if d <= 1:\n",
    "        treff += 1\n",
    "    else:\n",
    "        bom += 1\n",
    "\n",
    "print(\"Treff:\", treff)\n",
    "print(\"Bom:  \", bom)"
   ]
  },
  {
   "cell_type": "markdown",
   "metadata": {},
   "source": [
    "Vi kaster nå tusen piler og ser hvor mange som treffer og bommer. For å finne $\\pi$ fra dette må vi plugge inn resultatene våre i formelen vi fant tidligere"
   ]
  },
  {
   "cell_type": "code",
   "execution_count": 39,
   "metadata": {},
   "outputs": [
    {
     "name": "stdout",
     "output_type": "stream",
     "text": [
      "Pi: 3.192\n"
     ]
    }
   ],
   "source": [
    "pi = 4*treff/antall_kast\n",
    "print(\"Pi:\", pi)"
   ]
  },
  {
   "cell_type": "markdown",
   "metadata": {},
   "source": [
    "Hvor nærme $\\pi$ var vi egentlig? La oss lage en funksjon som estimerer $\\pi$, så vi kan kjøre den et par ganger og se hvor nærme vi kommer i hvert tilfelle."
   ]
  },
  {
   "cell_type": "code",
   "execution_count": 40,
   "metadata": {},
   "outputs": [],
   "source": [
    "def estimate_pi(antall_kast):\n",
    "    treff = 0\n",
    "\n",
    "    for i in range(antall_kast):\n",
    "        x = uniform(-1, 1)\n",
    "        y = uniform(-1, 1)\n",
    "        avstand = sqrt(x**2 + y**2)\n",
    "        if avstand <= 1:\n",
    "            treff += 1 \n",
    "            \n",
    "    pi = 4*treff/antall_kast\n",
    "    return pi"
   ]
  },
  {
   "cell_type": "markdown",
   "metadata": {},
   "source": [
    "La oss se hvor nærme vi kommer når vi kaster bare 10 piler"
   ]
  },
  {
   "cell_type": "code",
   "execution_count": 41,
   "metadata": {},
   "outputs": [
    {
     "name": "stdout",
     "output_type": "stream",
     "text": [
      "2.4\n",
      "3.6\n",
      "2.8\n"
     ]
    }
   ],
   "source": [
    "print(estimate_pi(10))\n",
    "print(estimate_pi(10))\n",
    "print(estimate_pi(10))"
   ]
  },
  {
   "cell_type": "markdown",
   "metadata": {},
   "source": [
    "Her treffer vi ikke særlig bra. Merk at siden vi kaster akkurat 10 piler, så vil uttrykket \"antall treff/antall kast\" alltid være 0.1, 0.2, 0.3, osv, så når vi ganger med 4 får vi 0.4, 0.8, 1.2 osv. Så det nærmeste $\\pi$ vi kan komme med 10 kast er altså 3.2! Det er ikke bra nok, la oss prøve med 1000 kast"
   ]
  },
  {
   "cell_type": "code",
   "execution_count": 42,
   "metadata": {},
   "outputs": [
    {
     "name": "stdout",
     "output_type": "stream",
     "text": [
      "3.204\n",
      "3.184\n",
      "3.156\n"
     ]
    }
   ],
   "source": [
    "print(estimate_pi(1000))\n",
    "print(estimate_pi(1000))\n",
    "print(estimate_pi(1000))"
   ]
  },
  {
   "cell_type": "markdown",
   "metadata": {},
   "source": [
    "Nå er vi litt nærmere. La oss gå til en million"
   ]
  },
  {
   "cell_type": "code",
   "execution_count": 43,
   "metadata": {},
   "outputs": [
    {
     "name": "stdout",
     "output_type": "stream",
     "text": [
      "3.141984\n",
      "3.142184\n",
      "3.141396\n"
     ]
    }
   ],
   "source": [
    "print(estimate_pi(1000000))\n",
    "print(estimate_pi(1000000))\n",
    "print(estimate_pi(1000000))"
   ]
  },
  {
   "cell_type": "markdown",
   "metadata": {},
   "source": [
    "En million kast er altså bra nok for å få 3.14, men $\\pi$ har uendelig desimaler, og det fortsetter $3.14159265...$. Vi kunne økt til enda flere kast og fått fler og fler desimaler i svaret vårt, men dette kan fort ta en stund. Prinsippet er derimot at jo lenger datamaskinen får jobbe, jo flere desimaler finner vi av $\\pi$. \n",
    "\n",
    "I praksis bruker ikke matematikere denne metoden for å finne $\\pi$, men de bruker lignende teknikker for å få datamaskiner til å regne fler og fler desimaler av pi. Jo lenger maskinene får kjøre, jo fler desimaler får vi ut. Det er konkuranser blant matematikere å regne ut flest desimaler, og rekorden er nå på 2.7 tusen milliarder desimaler! Så kan man jo lure på hvorfor man trenger å vite så mange desimaler av $\\pi$, og svaret der er at det strengt tatt ikke er så veldig spennende. Noen forsker på tallmønstre i $\\pi$, og for dem er det ganske spennende, men det brukes nok ikke til mye mer enn det. Derimot syns matematikere gjerne sånne problemer er morsomme for det, og det er en viss ære i å finne nye og bedre måter å regne ut $\\pi$ på, samtidig er det en god måte å teste hvor rask en datamaskin er på."
   ]
  },
  {
   "cell_type": "markdown",
   "metadata": {},
   "source": [
    "#### Plotte Konvergens mot $\\pi$\n",
    "\n",
    "Det at vi kommer nærmere og nærmere $\\pi$ kaller vi *konvergens*. La oss tegne opp hvor nærme vi kommer over tid"
   ]
  },
  {
   "cell_type": "code",
   "execution_count": 44,
   "metadata": {},
   "outputs": [
    {
     "data": {
      "image/png": "[encoded data removed]",
      "text/plain": [
       "<matplotlib.figure.Figure at 0x7fbd6cd905c0>"
      ]
     },
     "metadata": {},
     "output_type": "display_data"
    }
   ],
   "source": [
    "antall_kast = 100\n",
    "treff = 0\n",
    "pi = []\n",
    "\n",
    "for i in range(antall_kast):\n",
    "    x = uniform(-1, 1)\n",
    "    y = uniform(-1, 1)\n",
    "    avstand = sqrt(x**2 + y**2)\n",
    "\n",
    "    if avstand <= 1:\n",
    "            treff += 1 \n",
    "            \n",
    "    pi.append(4*treff/(i+1))\n",
    "    \n",
    "plot(pi, 'o-')\n",
    "axhline(3.1415, color='black')\n",
    "axis((0, antall_kast, 0, 4.2))\n",
    "show()"
   ]
  },
  {
   "cell_type": "markdown",
   "metadata": {},
   "source": [
    "Siden denne estimeringen av $\\pi$ bygger på tilfeldighet ser vi at estimatet vårt gjerne kan skyte over og under $\\pi$, men på grunn av store talls lov ser vi at den etterhvert begynner å flate ut. La oss tegne på nytt, men med en million kast. Nå lar vi y-aksen gå fra 3.1 til 3.2."
   ]
  },
  {
   "cell_type": "code",
   "execution_count": 45,
   "metadata": {},
   "outputs": [
    {
     "data": {
      "image/png": "[encoded data removed]",
      "text/plain": [
       "<matplotlib.figure.Figure at 0x7fbd6cd56b70>"
      ]
     },
     "metadata": {},
     "output_type": "display_data"
    }
   ],
   "source": [
    "antall_kast = 1000000\n",
    "treff = 0\n",
    "pi = []\n",
    "\n",
    "for i in range(antall_kast):\n",
    "    x = uniform(-1, 1)\n",
    "    y = uniform(-1, 1)\n",
    "    avstand = sqrt(x**2 + y**2)\n",
    "\n",
    "    if avstand <= 1:\n",
    "            treff += 1 \n",
    "            \n",
    "    pi.append(4*treff/(i+1))\n",
    "    \n",
    "plot(pi)\n",
    "axhline(3.1415, color='black')\n",
    "axis((0, antall_kast, 3.1, 3.2))\n",
    "show()"
   ]
  },
  {
   "cell_type": "markdown",
   "metadata": {},
   "source": [
    "### Buffon's Nål\n",
    "\n",
    "Et alternativ til å kaste dart for å finne $\\pi$ er Buffon's nåleksperiment. For å gjøre eksperimentet trenger man et stort ark og en haug med nåler (her er det mer praktisk å bruke tannpirkere eller fyrstikker). På arket tegner man parallelle rette linjer, der avstandene mellom linjene skal være nøyaktig 2 ganger lengden på nålene/fyrstikkene. Om man kaster fyrstikkene så de er tilfeldig spredt utover arket, kan man nå tellet antallet som krysser noen av linjene, og antaller som ikke kryser linjene. Formelen for å finne $\\pi$ er nå\n",
    "$$\\pi = \\frac{\\text{antall fyrstikker}}{\\text{antall som krysser en linje}}.$$\n",
    "\n",
    "<img src=\"fig/buffon.png\" width=400></img>\n",
    "\n",
    "Det er litt vanskligere å forklare hvorfor Buffon's nåleksperiment handler om $\\pi$ ved hjelp av ungdomsskolematematikk, ettersom at det krever cosinus og sinus. Det er også litt vanskligere å programmere det av samme grunn. Men det kan være stilig å gjennomføre i klasserommet."
   ]
  },
  {
   "cell_type": "code",
   "execution_count": 46,
   "metadata": {},
   "outputs": [
    {
     "data": {
      "text/html": [
       "<iframe width=\"560\" height=\"315\" src=\"https://www.youtube.com/embed/sJVivjuMfWA?rel=0\" frameborder=\"0\" allow=\"autoplay; encrypted-media\" allowfullscreen></iframe>"
      ],
      "text/plain": [
       "<IPython.core.display.HTML object>"
      ]
     },
     "execution_count": 46,
     "metadata": {},
     "output_type": "execute_result"
    }
   ],
   "source": [
    "from IPython.display import HTML\n",
    "\n",
    "# Youtube\n",
    "HTML('<iframe width=\"560\" height=\"315\" src=\"https://www.youtube.com/embed/sJVivjuMfWA?rel=0\" frameborder=\"0\" allow=\"autoplay; encrypted-media\" allowfullscreen></iframe>')"
   ]
  },
  {
   "cell_type": "markdown",
   "metadata": {},
   "source": [
    "Link til videon: https://www.youtube.com/watch?v=sJVivjuMfWA"
   ]
  },
  {
   "cell_type": "markdown",
   "metadata": {},
   "source": [
    "# Det Gyldne Snitt og Fibonaccirekka\n",
    "\n",
    "Vi går nå fra å se på $\\pi$ (pi) til et annet viktig geometrisk tall: $\\phi$ (phi). Det er ikke like mange som kjenner til $\\phi$ som $\\pi$, men det er litt fordi det er bedre kjent under et kallenavn: det gylne snitt. Det gyldne snitt er et tall vi finner mye i naturen, men også i design - for det regnes som veldig vakkert.\n",
    "\n",
    "Kort fortalt kan man forklare det gyldne snitt ved å tegne et rektangel. Hvis vi sier at $a$ er høyden på rektangelet, så sier vi at bredden er $a+b$. Det gyldne snitt er det vi trenger hvis vi vil at forholdet mellom sidene skal være det samme som forholdene $a$ og $b$.\n",
    "<img src=\"fig/gyldne_snitt.png\" width=500></img>\n",
    "Dette er altså en fin balanse mellom lengdene $a$ og $b$, og det kalles gjerne for en *harmonisk* deling.\n",
    "\n",
    "Vi skal se hvordan vi kan regne ut $\\phi$, om vi ikke kjenner til hva den er, på samme måte som vi regnet ut $\\pi$. Men før vi gjør det trenger vi å se på Fibonaccirekka.\n",
    "\n"
   ]
  },
  {
   "cell_type": "markdown",
   "metadata": {},
   "source": [
    "### Fibonaccirekka\n",
    "\n",
    "\n",
    "Den følgende tallrekka er ganske berømt\n",
    "$$1, 1, 2, 3, 5, 8, 13, 21, 34, 55, 89, 144, ...$$\n",
    "Den kalles Fibonaccirekka, eller bare for Fibonaccitallene. Rekka lages ved at hvert nye tall i rekken er summen av de to foregående. Med denne definisjonen er det forholdsvis enkelt å regne seg videre oppover i rekka, men tallene blir fort ganske store. \n",
    "\n",
    "La oss lage et program som regner seg oppover i rekka og skriver ut tallene. La oss først prøve å skrive ut de 10 første tallene i rekka. Dette gjør vi ved å bruke variables som husker de to foregående tallene. Vi kan kalle disse `forrige` og `fforrige`, der \"ff\" i \"fforrige\" står for \"forrige-forrige\". For hvert tall i rekka må vi legge sammen disse to variablene, skrive ut resultatet, så oppdatere de to tellevariablene. Det første tallet i rekka (1) må vi rett og slett skrive ut for hånd, for da har vi ingen \"forrige\" tall å bruke."
   ]
  },
  {
   "cell_type": "code",
   "execution_count": 47,
   "metadata": {},
   "outputs": [
    {
     "name": "stdout",
     "output_type": "stream",
     "text": [
      "1\n",
      "1\n",
      "2\n",
      "3\n",
      "5\n",
      "8\n",
      "13\n",
      "21\n",
      "34\n",
      "55\n"
     ]
    }
   ],
   "source": [
    "fforrige = 0\n",
    "forrige = 1\n",
    "\n",
    "print(1)\n",
    "for i in range(9):\n",
    "    # Regn ut neste tall i rekka\n",
    "    neste = forrige + fforrige\n",
    "    print(neste)\n",
    "    \n",
    "    # Oppdater tellevariabler\n",
    "    fforrige = forrige\n",
    "    forrige = neste"
   ]
  },
  {
   "cell_type": "markdown",
   "metadata": {},
   "source": [
    "Vi kan legge dette inn i en funksjon som skriver ut de første $n$ tallene i rekka"
   ]
  },
  {
   "cell_type": "code",
   "execution_count": 48,
   "metadata": {},
   "outputs": [
    {
     "name": "stdout",
     "output_type": "stream",
     "text": [
      "1\n",
      "1\n",
      "2\n",
      "3\n",
      "5\n",
      "8\n",
      "13\n",
      "21\n",
      "34\n",
      "55\n"
     ]
    }
   ],
   "source": [
    "def fibonacci(n):\n",
    "    fforrige = 0\n",
    "    forrige = 1\n",
    "\n",
    "    print(1)\n",
    "    for i in range(n-1):\n",
    "        neste = forrige + fforrige\n",
    "        print(neste)\n",
    "        fforrige = forrige\n",
    "        forrige = neste\n",
    "        \n",
    "fibonacci(10)"
   ]
  },
  {
   "cell_type": "markdown",
   "metadata": {},
   "source": [
    "**Eksempeloppgave:** Gjør om på funksjonen slik at den returnerer det $n$'te tallet i Fibonaccirekka, og ikke skriver noe ut. For å teste funksjonen sjekk at det 30'ende tallet i rekka skal være 832040.\n",
    "\n",
    "**Fasit:**"
   ]
  },
  {
   "cell_type": "code",
   "execution_count": 49,
   "metadata": {},
   "outputs": [
    {
     "name": "stdout",
     "output_type": "stream",
     "text": [
      "832040\n"
     ]
    }
   ],
   "source": [
    "def fibonacci(n):\n",
    "    fforrige = 0\n",
    "    forrige = 1\n",
    "\n",
    "    for i in range(n-1):\n",
    "        # Regn ut neste tall i rekka\n",
    "        neste = forrige + fforrige\n",
    "        \n",
    "        # Oppdater tellevariabler\n",
    "        fforrige = forrige\n",
    "        forrige = neste\n",
    "    \n",
    "    return neste\n",
    "\n",
    "print(fibonacci(30))"
   ]
  },
  {
   "cell_type": "markdown",
   "metadata": {},
   "source": [
    "### Hvorfor er Fibonaccitall så spennende?\n",
    "\n",
    "Det er flere grunner til at Fibonacci tallene er interessante, men en av de viktigste grunnene er at denne rekka er veldig tett knyttet til det gyldne snitt. For å se hvorfor skal vi tegne litt\n",
    "\n",
    "#### Tegne Fibonaccifirkanter\n",
    "\n",
    "Om vi bruker et ruteark og penn kan vi tegne fibonaccifirkanter ved å tegne kvadrater som er et heltall antall ruter i bredden. Vi begynner med å tegne to kvadrater som er 1 rute i bredden (det vil si at kvadratet bare er en rute). Etter vi har tegnet de to første kvadratene tegner vi et nytt kvadrat på siden av disse to som er like bred som summen av dem. Kombinasjonen av alle kvadratene vi har tegnet vil alltid være et rektangel. Vi flytter oss nå opp og tegner et nytt kvadrat som er like bredt som bredden på rektangelen vårt. Så flytter vi oss mot venstre og gjør det igjen. På denne måten beveger vi oss utover i en spiral, mot klokka.\n",
    "\n",
    "Grunnen til at vi kaller dette Fibonaccifirkanter er at bredden på hver nye firkant man tegner vil være lik tallene i Fibonaccirekka, $1, 1, 2, 3, 5, 8, 13,...$.\n",
    "\n",
    "<img src=\"fig/fibonnaci_firkanter.png\"></img>"
   ]
  },
  {
   "cell_type": "markdown",
   "metadata": {},
   "source": [
    "Når vi ser på disse fibonaccifirkantene ser vi at de allerede ligner en del på firkanten over som er det gyldne snitt! Og det stemmer faktisk. Det viser seg at hvis vi deler to tall som følger hverandre i Fibonaccirekka på hverandre, så vil vi få det gyldne snitt! La oss prøve med de første tallene og se\n",
    "$$\\begin{align}\n",
    "1/1 &= 1 \\\\\n",
    "2/1 &= 2 \\\\\n",
    "3/2 &= 1.5 \\\\\n",
    "5/3 &= 1.666... \\\\\n",
    "8/5 &= 1.6 \\\\\n",
    "13/8 &= 1.625 \\\\\n",
    "&{\\rm osv...}\n",
    "\\end{align}$$\n",
    "Når vi husker at $\\phi = 1.6168...$ er vi allerede veldig nærme. På samme måte som for $\\pi$, vil vi få et bedre estimat jo lengre opp i rekka vi går. Akkurat som $\\pi$ er $\\phi$ irrasjonelt, så det er ingen ende på desimalene.\n",
    "\n",
    "Om vi ønsker å finne mange desimaler av det gylne snitt må vi altså finne større og større tall i Fibonaccirekka. Dette kan du i prinsippet gjøre for hånd, men det blir fort kjedlig og tar lang tid når tallene begynner å bli større. Så la oss gjøre dette med programmering. Men først skal vi bruke skilpaddegrafikk til å tegne litt Fibonaccifirkanter.\n"
   ]
  },
  {
   "cell_type": "markdown",
   "metadata": {},
   "source": [
    "#### Skilpaddegrafikk: Fibonacci\n",
    "\n",
    "Vi bruker `firkant` funksjonen vi lagde tidligere til å tegne kvadrat med større og større bredde. Vi må først lage en skilpadde "
   ]
  },
  {
   "cell_type": "code",
   "execution_count": 51,
   "metadata": {},
   "outputs": [],
   "source": [
    "turtle.bye()"
   ]
  },
  {
   "cell_type": "code",
   "execution_count": 53,
   "metadata": {},
   "outputs": [],
   "source": [
    "carl = turtle.Turtle()\n",
    "carl.shape('turtle')\n",
    "carl.speed(5)"
   ]
  },
  {
   "cell_type": "markdown",
   "metadata": {},
   "source": [
    "Vi begynner med å tegne de to første kvadratene med sider på 1. Et steg i turtlegrafikken er veldig lite, så vi ganger opp med en forstørrelsesfaktor på 50 for å kunne se bedre."
   ]
  },
  {
   "cell_type": "code",
   "execution_count": 54,
   "metadata": {},
   "outputs": [],
   "source": [
    "forstørrelse = 30\n",
    "firkant(carl, forstørrelse*1)\n",
    "carl.forward(forstørrelse*1)\n",
    "firkant(carl, forstørrelse*1)"
   ]
  },
  {
   "cell_type": "markdown",
   "metadata": {},
   "source": [
    "Nå skal vi bruke en løkke for å tegne nye kvadrater. Vi må holde styr på hvilket tall vi er kommet til, akkurat som når vi fant Fibonaccitall tidligere. For hvert nye tall i rekka må vi først navigere til riktig startpunkt, så tegne et kvadrat med den bredden."
   ]
  },
  {
   "cell_type": "code",
   "execution_count": 55,
   "metadata": {},
   "outputs": [],
   "source": [
    "fforrige = 1\n",
    "forrige = 1\n",
    "\n",
    "for i in range(6):\n",
    "    # Finn neste tall i rekka\n",
    "    neste = forrige + fforrige\n",
    "    \n",
    "    # Naviger skilpadden til riktig startpunkt\n",
    "    carl.forward(forstørrelse*forrige)\n",
    "    carl.left(90)\n",
    "    carl.forward(forstørrelse*forrige)\n",
    "    \n",
    "    # Tegn det nye kvadratet\n",
    "    firkant(carl, forstørrelse*neste)\n",
    "    \n",
    "    # Oppdater tellevariabler\n",
    "    fforrige = forrige\n",
    "    forrige = neste\n",
    "    "
   ]
  },
  {
   "cell_type": "markdown",
   "metadata": {},
   "source": [
    "#### Tegne en Fibonaccispiral\n",
    "\n",
    "Etter vi har tegnet opp Fibonaccifirkantene får vi en *Fibonaccispiral* om vi tegner kvartsirkeler i hvert kvadrat, med radius lik bredden av kvadratet, slik at den går fra ett hjørne til et annet. Siden kvadratene blir større og større blir kvartsirkelene det og, og vi får en spiral.\n",
    "\n",
    "<img src=\"https://upload.wikimedia.org/wikipedia/commons/thumb/2/2e/FibonacciSpiral.svg/708px-FibonacciSpiral.svg.png\" width=500></img>\n",
    "\n",
    "Nå som vi har fått til å tegne Fibonaccifirkantene ved hjelp av skilpaddegrafikk prøver vi også å tegne en Fibonaccispiral. Dette gjør vi ved å tegne en kvartsirkel for hver firkant, der radiusen er lik Fibonaccitallet. Vi lager en ny skilpadde som kan stå for spiralen"
   ]
  },
  {
   "cell_type": "code",
   "execution_count": 56,
   "metadata": {},
   "outputs": [],
   "source": [
    "daphne = turtle.Turtle()\n",
    "daphne.shape('turtle')\n",
    "daphne.color('blue')\n",
    "daphne.speed(3)\n",
    "daphne.pensize(3)"
   ]
  },
  {
   "cell_type": "markdown",
   "metadata": {},
   "source": [
    "Nå må vi navigere til riktig startsted for spiralen"
   ]
  },
  {
   "cell_type": "code",
   "execution_count": 57,
   "metadata": {},
   "outputs": [],
   "source": [
    "daphne.left(90)\n",
    "daphne.forward(forstørrelse*1)\n",
    "daphne.left(180)"
   ]
  },
  {
   "cell_type": "markdown",
   "metadata": {},
   "source": [
    "Den første kvartsirkelen tar vi manuelt. Vi presierer at vi ikke skal ha en hel sirkel, men bare en kvart, som tilsvarer 90 grader."
   ]
  },
  {
   "cell_type": "code",
   "execution_count": 58,
   "metadata": {},
   "outputs": [],
   "source": [
    "daphne.circle(forstørrelse*1, 90) "
   ]
  },
  {
   "cell_type": "markdown",
   "metadata": {},
   "source": [
    "Og nå løkker vi oss opp gjennom resten av firkantene"
   ]
  },
  {
   "cell_type": "code",
   "execution_count": 59,
   "metadata": {},
   "outputs": [
    {
     "name": "stdout",
     "output_type": "stream",
     "text": [
      "1\n",
      "2\n",
      "3\n",
      "5\n",
      "8\n",
      "13\n",
      "21\n"
     ]
    }
   ],
   "source": [
    "fforrige = 0\n",
    "forrige = 1\n",
    "\n",
    "for i in range(7):\n",
    "    neste = forrige + fforrige\n",
    "    print(neste)\n",
    "    daphne.circle(forstørrelse*neste, 90) \n",
    "    \n",
    "    fforrige = forrige\n",
    "    forrige = neste"
   ]
  },
  {
   "cell_type": "markdown",
   "metadata": {},
   "source": [
    "Akkurat som det gyldne snitt ansees Fibonnacispiraler, også kjent som gyldne spiraler, som veldig vakre, og vi ser mange gyldne spiraler i naturen, for eksempel i blomsterfrø og skjell.\n",
    "\n",
    "Eksempler fra naturen hvor vi har spiraler som er tett knyttet til det gyldne snitt.\n",
    "<img src=\"https://static1.squarespace.com/static/526e93fde4b0825dbf634205/t/55376c19e4b04fa840f0d570/1429695527113/?format=2500w\" width=1000></img>\n",
    "(Kilde: [Totem Learning](http://www.totemlearning.com/totemblog/2015/4/22/the-golden-ratio-a-brief-introduction))"
   ]
  },
  {
   "cell_type": "markdown",
   "metadata": {},
   "source": [
    "En bok om det Gyldne Snitt:\n",
    "<img src=\"https://www.tanum.no/sek-asset/products/9788248913290.jpg?w=436\" width=200></img>"
   ]
  },
  {
   "cell_type": "markdown",
   "metadata": {},
   "source": [
    "\n",
    "Videoen under forklarer hvorfor the gyldne snitt dukker opp i fordelingen av blomsterfrø i solsikker, og hvorfor det viser seg at $\\phi$ er det mest irrasjonelle tallet mulig. Dette er nok for komplisert å bruke som ressurs i ungdomsskolen, men fortsatt stilig å kjenne til."
   ]
  },
  {
   "cell_type": "code",
   "execution_count": 60,
   "metadata": {},
   "outputs": [
    {
     "data": {
      "text/html": [
       "<iframe width=\"560\" height=\"315\" src=\"https://www.youtube.com/embed/sj8Sg8qnjOg\" frameborder=\"0\" allow=\"autoplay; encrypted-media\" allowfullscreen></iframe>"
      ],
      "text/plain": [
       "<IPython.core.display.HTML object>"
      ]
     },
     "execution_count": 60,
     "metadata": {},
     "output_type": "execute_result"
    }
   ],
   "source": [
    "HTML('<iframe width=\"560\" height=\"315\" src=\"https://www.youtube.com/embed/sj8Sg8qnjOg\" frameborder=\"0\" allow=\"autoplay; encrypted-media\" allowfullscreen></iframe>')"
   ]
  },
  {
   "cell_type": "markdown",
   "metadata": {},
   "source": [
    "Kilde: https://www.youtube.com/watch?v=sj8Sg8qnjOg"
   ]
  },
  {
   "cell_type": "markdown",
   "metadata": {},
   "source": [
    "### Regne ut $\\phi$\n",
    "\n",
    "Vi begynnte dette avsnittet med å si at vi kan bruke Fibonnacitall til å regne ut $\\phi$, så la oss prøve dette."
   ]
  },
  {
   "cell_type": "code",
   "execution_count": 61,
   "metadata": {},
   "outputs": [],
   "source": [
    "fforrige = 0\n",
    "forrige = 1\n",
    "fib = [1]\n",
    "phi = [\"n/a\"]\n",
    "\n",
    "for i in range(15):\n",
    "    neste = fforrige + forrige\n",
    "    \n",
    "    fib.append(neste)\n",
    "    phi.append(neste/forrige)\n",
    "    \n",
    "    fforrige = forrige\n",
    "    forrige = neste\n"
   ]
  },
  {
   "cell_type": "code",
   "execution_count": 62,
   "metadata": {},
   "outputs": [
    {
     "name": "stdout",
     "output_type": "stream",
     "text": [
      "  1 n/a\n",
      "  1 1.0\n",
      "  2 2.0\n",
      "  3 1.5\n",
      "  5 1.6667\n",
      "  8 1.6\n",
      " 13 1.625\n",
      " 21 1.6154\n",
      " 34 1.619\n",
      " 55 1.6176\n",
      " 89 1.6182\n",
      "144 1.618\n",
      "233 1.6181\n",
      "377 1.618\n",
      "610 1.618\n"
     ]
    }
   ],
   "source": [
    "for i in range(15):\n",
    "    print(\"{:3} {:.5}\".format(fib[i], phi[i]))"
   ]
  },
  {
   "cell_type": "markdown",
   "metadata": {},
   "source": [
    "Vi kan også plott det sånn som vi gjorde for pi"
   ]
  },
  {
   "cell_type": "code",
   "execution_count": 63,
   "metadata": {},
   "outputs": [
    {
     "data": {
      "image/png": "[encoded data removed]",
      "text/plain": [
       "<matplotlib.figure.Figure at 0x7fbd6cd8a5c0>"
      ]
     },
     "metadata": {},
     "output_type": "display_data"
    }
   ],
   "source": [
    "plot(phi[1:], 'o-')\n",
    "axhline(1.618, color='black')\n",
    "show()"
   ]
  },
  {
   "cell_type": "markdown",
   "metadata": {},
   "source": [
    "Vi ser at beregningen av $\\phi$ konvergerer veldig raskt, mye raskere enn den vi gjorde for $\\pi$."
   ]
  }
 ],
 "metadata": {
  "kernelspec": {
   "display_name": "Python 3",
   "language": "python",
   "name": "python3"
  },
  "language_info": {
   "codemirror_mode": {
    "name": "ipython",
    "version": 3
   },
   "file_extension": ".py",
   "mimetype": "text/x-python",
   "name": "python",
   "nbconvert_exporter": "python",
   "pygments_lexer": "ipython3",
   "version": "3.5.2"
  }
 },
 "nbformat": 4,
 "nbformat_minor": 2
}
