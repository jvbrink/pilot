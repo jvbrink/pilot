{
 "cells": [
  {
   "cell_type": "code",
   "execution_count": 1,
   "metadata": {},
   "outputs": [],
   "source": [
    "from pylab import *"
   ]
  },
  {
   "cell_type": "code",
   "execution_count": 2,
   "metadata": {},
   "outputs": [
    {
     "name": "stdout",
     "output_type": "stream",
     "text": [
      "-0.23214751907572495 0.9618982667815215\n"
     ]
    }
   ],
   "source": [
    "x = uniform(-1, 1)\n",
    "y = uniform(-1, 1)\n",
    "\n",
    "print(x, y)"
   ]
  },
  {
   "cell_type": "code",
   "execution_count": 11,
   "metadata": {},
   "outputs": [
    {
     "data": {
      "image/png": "[encoded data removed]",
      "text/plain": [
       "<Figure size 432x288 with 1 Axes>"
      ]
     },
     "metadata": {},
     "output_type": "display_data"
    }
   ],
   "source": [
    "def tegn_blink():\n",
    "    theta = linspace(0, 2*pi, 1001)\n",
    "    plot(cos(theta), sin(theta))\n",
    "    plot((-1, -1, 1, 1, -1), (-1, 1, 1, -1, -1), color='black')\n",
    "    axis('equal')\n",
    "    axis('off')\n",
    "    \n",
    "\n",
    "tegn_blink()\n",
    "show()"
   ]
  },
  {
   "cell_type": "code",
   "execution_count": 66,
   "metadata": {},
   "outputs": [
    {
     "name": "stdout",
     "output_type": "stream",
     "text": [
      "Antall kast: 1000000\n",
      "Antall treff: 784760\n",
      "Estimerer pi til: 3.13904\n"
     ]
    }
   ],
   "source": [
    "antall_kast = 1000000\n",
    "antall_treff = 0\n",
    "\n",
    "for kast in range(antall_kast):\n",
    "    # Kast pil\n",
    "    x = uniform(-1, 1)\n",
    "    y = uniform(-1, 1)\n",
    "    \n",
    "    # Har vi truffet?\n",
    "    d = x**2 + y**2\n",
    "    if d <= 1:\n",
    "        antall_treff += 1\n",
    "\n",
    "pi = 4*antall_treff/antall_kast\n",
    "        \n",
    "print(\"Antall kast: {}\".format(antall_kast))\n",
    "print(\"Antall treff: {}\".format(antall_treff))\n",
    "print(\"Estimerer pi til: {}\".format(pi))"
   ]
  }
 ],
 "metadata": {
  "kernelspec": {
   "display_name": "Python 3",
   "language": "python",
   "name": "python3"
  },
  "language_info": {
   "codemirror_mode": {
    "name": "ipython",
    "version": 3
   },
   "file_extension": ".py",
   "mimetype": "text/x-python",
   "name": "python",
   "nbconvert_exporter": "python",
   "pygments_lexer": "ipython3",
   "version": "3.6.5"
  }
 },
 "nbformat": 4,
 "nbformat_minor": 2
}
