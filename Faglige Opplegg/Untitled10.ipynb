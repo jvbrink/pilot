{
 "cells": [
  {
   "cell_type": "code",
   "execution_count": 6,
   "metadata": {},
   "outputs": [
    {
     "name": "stdout",
     "output_type": "stream",
     "text": [
      "832040\n"
     ]
    }
   ],
   "source": [
    "def fibonaccirekke(n):\n",
    "    førforrige = 0\n",
    "    forrige = 1\n",
    "\n",
    "    print(1)\n",
    "    for i in range(n-1):\n",
    "        # Regn ut neste tall i rekka\n",
    "        neste = forrige + førforrige\n",
    "        print(neste)\n",
    "\n",
    "        førforrige = forrige\n",
    "        forrige = neste\n",
    "\n",
    "def fibonaccitall(n):\n",
    "    førforrige = 0\n",
    "    forrige = 1\n",
    "\n",
    "    for i in range(n-1):\n",
    "        # Regn ut neste tall i rekka\n",
    "        neste = forrige + førforrige\n",
    "\n",
    "        førforrige = forrige\n",
    "        forrige = neste\n",
    "    \n",
    "    return neste\n",
    "        \n",
    "        \n",
    "print(fibonaccitall(30))"
   ]
  }
 ],
 "metadata": {
  "kernelspec": {
   "display_name": "Python 3",
   "language": "python",
   "name": "python3"
  },
  "language_info": {
   "codemirror_mode": {
    "name": "ipython",
    "version": 3
   },
   "file_extension": ".py",
   "mimetype": "text/x-python",
   "name": "python",
   "nbconvert_exporter": "python",
   "pygments_lexer": "ipython3",
   "version": "3.6.5"
  }
 },
 "nbformat": 4,
 "nbformat_minor": 2
}
