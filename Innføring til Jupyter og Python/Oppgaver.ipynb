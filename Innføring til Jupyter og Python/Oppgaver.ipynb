{
 "cells": [
  {
   "cell_type": "markdown",
   "metadata": {},
   "source": [
    "### Oppgave 1: Printing\n",
    "\n",
    "**1a)** Lag et program som skriver ut teksten “Hello, World!” til skjermen.\n",
    "\n",
    "**1b)** Lag et program hvor du lagrer navnet ditt som en variabel, og deretter\n",
    "skriver ut lengden på navnet ditt med kommandoen `len(name)`.\n",
    "\n",
    "**1c)** Lag et program som spør brukeren om navnet dems, og deretter skriv en\n",
    "beskjed tilbake som bruker navnet de har gitt. *Hint:* Du kan spørre brukeren et spørsmål med `input`."
   ]
  },
  {
   "cell_type": "markdown",
   "metadata": {},
   "source": [
    "### Oppgave 2: Lister\n",
    "\n",
    "Ta en titt på følgende program:\n",
    "\n",
    "```Python\n",
    "x = [1]\n",
    "x.append (2)\n",
    "x.append (3)\n",
    "\n",
    "print(x)\n",
    "\n",
    "x[0] = 4\n",
    "\n",
    "print(x)\n",
    "print(len(x))\n",
    "print(type(x))\n",
    "print(type(x[0]))\n",
    "```\n",
    "Gå igjennom programmet for hånd og prøv å forutsi hva programmet skriver ut. Test så ved å kjøre koden."
   ]
  },
  {
   "cell_type": "markdown",
   "metadata": {},
   "source": [
    "### Oppgave 3: Kvadrattall\n",
    "\n",
    "Skriv en funksjon som tar et tall som argument inn, og returnerer kvadrattallet.\n",
    "**Hint:** Et kvadrattall er et tall ganget med seg selv, for eksempel så er $3\\times3 = 9$, så 9 er kvadrattallet til 3."
   ]
  },
  {
   "cell_type": "markdown",
   "metadata": {},
   "source": [
    "### Oppgave 4: Pytagoras\n",
    "\n",
    "<img src=\"fig/pytagoras.png\" width=300>\n",
    "\n",
    "**Oppgave a)**\n",
    "\n",
    "Skriv en funksjon som bruker Pytagoras til å regne ut lengden hypotenusen av en rettvinklet trekant, gitt lengden på de to katetene som inputen. Kall funksjonen din for `hypotenus(a, b)`.\n",
    "\n",
    "**Oppgave b)** \n",
    "\n",
    "Skriv en funksjon som bruker Pytagoras til å regne ut lengden på den ene kateten, gitt lengden på hypotenusen og lengden på den andre kateteten som input. Kall funksjonen din `katet(b, c)`."
   ]
  },
  {
   "cell_type": "markdown",
   "metadata": {},
   "source": [
    "---"
   ]
  },
  {
   "cell_type": "markdown",
   "metadata": {},
   "source": [
    "### Oppgave 5: vei-fart-tid kalkulator\n",
    "\n",
    "En viktig formel for å beskrive bevegelse er vei-fart-tid formelen. Egentlig er det tre formler i et, for vi kan stokke om på den avhengig av hva vi ønsker å regne ut. Av og til tegnes vei-fart-tid formelen som en pyramide:\n",
    "\n",
    "<img src=\"fig/vei_fart_tid.png\" width=250>\n",
    "\n",
    "**Oppgave a)** Skriv opp uttrykket for å regne ut *vei*, gitt *fart* og *tid*. Lag en funksjon som bruker formelen, kall denne `vei(fart, tid)`. Vi vil at fart skal oppgis i kilometer i timen, vei i antall kilometer og tid i antall minutter, da må du huske å regne om tiden fra antall timer til antall minutter.\n",
    "\n",
    "**Oppgave b)** Skriv opp uttrykket for å regne ut *fart*, gitt *vei* og *tid*. Lag en funksjon som bruker formelen, kall denne `fart(vei, tid)`.\n",
    "\n",
    "**Oppgave c)** Skriv opp uttrykket for å regne ut *tid*, gitt *vei* og *fart*. Lag en funksjon som bruker formelen, kall denne `tid(vei, fart)`.\n",
    "\n",
    "**Oppgave d)** Du skal nå lage en vei-fart-tid-kalkulator. Når dette programmet kjører skal det først spørre brukeren om de ønsker å regne ut vei, fart, eller tid. Avhengig av svaret skal så programmet spørre om de to størrelsene, og så regne ut og skrive ut svaret.\n",
    "\n"
   ]
  },
  {
   "cell_type": "markdown",
   "metadata": {},
   "source": [
    "---"
   ]
  },
  {
   "cell_type": "markdown",
   "metadata": {},
   "source": [
    "### Oppgave 6: Summere tallrekker\n",
    "\n",
    "La oss si vi ønsker å summere tallene fra 1 til og med 100. Dette blir litt slitsomt å gjøre for hånd. Så la oss bruke programmering. \n",
    "\n",
    "**Oppgave a)** Bruk en løkke til å finne summen av tallene 1 til 10. Sjekk at du får riktig svar ved å finne den samme summen for hånd.\n",
    "\n",
    "**Oppgave b)** Endre på programmet ditt så du finner summen av tallene fra 1 til og med 100.\n",
    "\n",
    "Den kjente matematikeren Gauss ble gitt denne oppgaven av sin lærer på 1700-tallet. Læreren tenkte nok at dette skulle holde Gauss opptatt en god stund med å legge sammen tall etter tall. Gauss hadde ikke tilgang på en datamaskin, så han kunne ikke automatisere jobben, men ha la merke til et mønster i tallene. Gauss la merke til at om vi starter på begge endene av rekka får vi et mønster\n",
    "$$1 + 100 = 101,$$\n",
    "$$2 + 99 = 101,$$\n",
    "$$3 + 98 = 101,$$\n",
    "$$\\ldots$$\n",
    "$$50+51 = 101.$$\n",
    "Fra dette mønsteret klarte Gauss å finne en formel for summen av tallene fra 1 til $n$, og uttrykket hans var\n",
    "$$s = \\frac{n(n+1)}{2}.$$\n",
    "\n",
    "**Oppgave c)** Forklar hvorfor formelen beskriver mønsteret Gauss ser. *Hint:* Hva er $(n+1)$ hvis $n$ er 100? Og hvorfor tar vi $n/2$ og ganger med dette tallet?\n",
    "\n",
    "**Oppgave d)** Lag en funksjon som bruker formelen til Gauss, kall funksjonen din `gaussum(n)`.\n",
    "\n",
    "**Oppgave d)** Bruk `gaussum` funksjonen du lagde og sammenlign med svaret du fikk i oppgave (b). Gir de to samme svar?\n",
    "\n",
    "**Oppgave e)** Finn summen av tallene fra 1 til og med 10 millioner. Bruk først løkkeløsningen din, og så `gaussum`-funksjonen din. Hvilken måte er raskest? Hvorfor tror det er sånn?"
   ]
  },
  {
   "cell_type": "markdown",
   "metadata": {},
   "source": [
    "---"
   ]
  },
  {
   "cell_type": "markdown",
   "metadata": {},
   "source": [
    "### Oppgave 7: Løkker for hånd\n",
    "\n",
    "For hver løkke, gå igjennom for hånd og forutsi hva som skrives ut. Etterpå kan du kjøre løkkene og se hva som \n",
    "\n",
    "**Oppgave a)**\n",
    "\n",
    "```Python\n",
    "total = 0\n",
    "for i in range(-5, 5):\n",
    "    total += i\n",
    "print(total)\n",
    "```\n",
    "**Oppgave b)**\n",
    "\n",
    "```Python\n",
    "total = 1\n",
    "for _ in range(5):\n",
    "    total *= total\n",
    "print(total)\n",
    "```\n",
    "\n",
    "**Oppgave c)**\n",
    "\n",
    "```Python\n",
    "total = 1\n",
    "while total < 10:\n",
    "    total += 2\n",
    "print(total)\n",
    "```\n",
    "\n",
    "**Oppgave d)**\n",
    "\n",
    "```Python\n",
    "total = 100\n",
    "antall_doblinger = 0\n",
    "\n",
    "while total < 500:\n",
    "    total *= 2\n",
    "    antall_doblinger += 1\n",
    "\n",
    "print(antall_doblinger)\n",
    "```\n",
    "\n",
    "For hver løkke, kjør løkka og se om du hadde rett.\n",
    "\n"
   ]
  },
  {
   "cell_type": "markdown",
   "metadata": {},
   "source": [
    "---"
   ]
  }
 ],
 "metadata": {
  "kernelspec": {
   "display_name": "Python 3",
   "language": "python",
   "name": "python3"
  },
  "language_info": {
   "codemirror_mode": {
    "name": "ipython",
    "version": 3
   },
   "file_extension": ".py",
   "mimetype": "text/x-python",
   "name": "python",
   "nbconvert_exporter": "python",
   "pygments_lexer": "ipython3",
   "version": "3.6.5"
  }
 },
 "nbformat": 4,
 "nbformat_minor": 2
}
