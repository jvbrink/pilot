{
 "cells": [
  {
   "cell_type": "code",
   "execution_count": null,
   "metadata": {},
   "outputs": [],
   "source": [
    "a = 2\n",
    "b = 3\n",
    "\n",
    "for element in lista_mi:\n",
    "    <kodeblokk>\n",
    "    <kodeblokk>\n",
    "    \n",
    "def min_funksjon():\n",
    "    <kodeblokk>\n",
    "    <kodeblokk>\n",
    "    <kodeblokk>\n",
    "    \n",
    "if betingelse:\n",
    "    <kodeblokk>\n",
    "    <kodeblokk>\n",
    "    \n",
    "while betingelse:\n",
    "    <kodeblokk>\n",
    "    <kodeblokk>\n",
    "    \n",
    "\n",
    "\n",
    "\n",
    "if (a < b) or (b < a):\n",
    "    print(\"a og b er ikke like\")\n",
    "    \n",
    "if betingelse1 and betingelse2 and betingelse3:\n",
    "    \n",
    "\n",
    "    \n",
    "if betingelse1:\n",
    "    if betingelse2:\n",
    "        if betingelse3:\n",
    "            "
   ]
  }
 ],
 "metadata": {
  "kernelspec": {
   "display_name": "Python 3",
   "language": "python",
   "name": "python3"
  },
  "language_info": {
   "codemirror_mode": {
    "name": "ipython",
    "version": 3
   },
   "file_extension": ".py",
   "mimetype": "text/x-python",
   "name": "python",
   "nbconvert_exporter": "python",
   "pygments_lexer": "ipython3",
   "version": "3.6.5"
  }
 },
 "nbformat": 4,
 "nbformat_minor": 2
}
