{
 "cells": [
  {
   "cell_type": "markdown",
   "metadata": {},
   "source": [
    "# Innføring til Python #3 Sammensatte eksempler\n",
    "\n",
    "I denne notebooken går vi igjennom noen mer sammensatte Python eksempler. Målet er å begynne å få mer forståelse for hvordan vi kan bruke Python til å løse mer komplekse problemstillinger."
   ]
  },
  {
   "cell_type": "markdown",
   "metadata": {},
   "source": [
    "#### Programstruktur og lesbarhet\n",
    "\n",
    "Før vi går videre på eksemplene kan vi snakke litt om programstruktur og lesbarhet. En ting som er viktig å huske på når man koder, er at man bør strukturere koden så den er så ryddig så mulig. For det første gjør man mindre slurvefeil når man har en ryddig kode, men det å holde en ryddig struktur gjør også at man tenker bedre på problemet. Kokker har begrepet *a cluttered counter gives a cluttered mind*, og det samme er sant for rotete kode.\n",
    "\n",
    "Samtidig bør koden vi skriver være forståelig for andre som skal lese den. Kode er\n",
    "jo egentlig skrevet for at en datamaskin skal forstå den, men andre skal gjerne bruke, lese eller endre på den senere. Skriv derfor kode med baktanken om at den ikke bare skal kunne kjøres av datamaskinen, men at den skal kunne leses av andre. Selv om du er sikker på at du aldri skal dele koden din med noen, vil det være mye lettere for degselv å gå tilbake til koden din senere og gjøre endringer eller videreutvikle den senere, hvis koden din er ryddig i utgangspunktet. La oss se på et par viktige triks for å gjøre koden ryddig og leselig."
   ]
  },
  {
   "cell_type": "markdown",
   "metadata": {},
   "source": [
    "###### Kommentarer\n",
    "\n",
    "Det første du kan gjøre, er å skrive kommentarer i koden. Kommentarer er deler\n",
    "av programmet ditt som Python ikke tolker som kode, og som ikke påvirker\n",
    "programmet ditt på noen måte. Det eneste kommentarer gjør, er å forklare hva\n",
    "som skjer til de som leser koden din. Du skriver kommentarer med `#`-symbolet.\n",
    "Alt som står bak en `#` på en kode-linje tolkes som en kommentar, og vil ikke\n",
    "endre noe på programmet ditt. Du kan anta at de som leser koden din kan grunnleggende Python, kommentarer bør derfor fokusere mer på baktanken ved koden. Et vanlig sted å ha kommentarer, er i begynnelsen av funksjoner, for å forklare funksjonen gjør"
   ]
  },
  {
   "cell_type": "code",
   "execution_count": 1,
   "metadata": {},
   "outputs": [],
   "source": [
    "def C2F(C):\n",
    "    # Ta en temperatur oppgitt i grader Celsius, returner temperaturen oppgitt i grader Fahrenheit\n",
    "    return 9/5*C + 32"
   ]
  },
  {
   "cell_type": "markdown",
   "metadata": {},
   "source": [
    "###### Variabelnavn\n",
    "\n",
    "Et annet viktig verktøy for å gjøre programmer leselige er å velge gode variabelnavn. Vi kan velge variabelnavn helt fritt, så det gjelder noe som er beskrivende for det variabelen faktisk brukes til, dette gjelder også \n",
    "funksjonsnavn. I eksempelet over heter funksjonen vår `C2F`, som leses ut \"C to F\", altså \"celsius til fahrenheit\". Dette kan være et bedre variabelnavn enn for eksempel `temperaturkonvertering` eller lignende, for isåfall mister vi informasjon på hvilken retningen konverteringen skjer. Her kunne vi kanskje valgt et enda bedre navn med `celsius2fahrenheit`, men samtidig blir det kanskje litt langt. En ting er sikkert, alle disse forslagene er bedre enn om vi kaller funksjonen vår `f`, eller `funksjon` eller noe slikt. Slike helt generelle variabelnavn gjør det veldig vanskelig for noen andre å lese koden."
   ]
  },
  {
   "cell_type": "markdown",
   "metadata": {},
   "source": [
    "###### Whitespace\n",
    "\n",
    "En annen ting som er viktig for strukturen på et program, er det som kalles\n",
    "whitespace. Whitespace er ganske enkelt forklart alt vi ikke kan se, så det betyr\n",
    "mellomrom, tabs og tomme linjer. I Python går det ikke ann å legge ekstra tomrom på starten av linjer, for innrykket er viktig  for fuksjoner og løkker - men ellers står vi ganske fritt til å legge inn whitespace der vi ønsker. Et program kan fort bli veldig mye finere og lettere å lese om vi legger inn litt ekstra tomrom så koden får \"puste\" litt.\n",
    "\n",
    "I kode er det noen steder det går fint å legge\n",
    "inn ekstra mellomrom, og andre steder det ikke går. Hvis du lærer deg hvor det\n",
    "er greit å bruke litt ekstra ‘tomrom’, så kan programmet ditt fort bli veldig mye\n",
    "finere.\n",
    "Du kan for eksempel alltid legge inn blanke linjer i et program. Python bryr\n",
    "seg ikke om blanke linjer. Ved å lage litt pusterom mellom forskjellige deler\n",
    "av et program, så blir det for mye mer leselig. Her er tomme linjer spesielt viktig, for de kan vi bruke til å del opp bolker med kodelinjer som logisk hører sammen."
   ]
  },
  {
   "cell_type": "markdown",
   "metadata": {},
   "source": [
    "### Lesbarhet i Jupyter\n",
    "\n",
    "I Jupyter er det litt andre prinsipper som råder over hva som er leselig sammenlignet med kode skrevet i en tradisjonell teksteditor. Med tanke på at vi kan dele opp koden over mange celler og ha bekrivende tekst før og/eller etter kodesnutter gjør at vi kan lage programmer som er leselige uten å måtte bruke mye kommentarer og lignende."
   ]
  },
  {
   "cell_type": "code",
   "execution_count": 62,
   "metadata": {},
   "outputs": [],
   "source": [
    "from pylab import *"
   ]
  },
  {
   "cell_type": "markdown",
   "metadata": {},
   "source": [
    "# Primtall\n",
    "\n",
    "Det først eksempelet vi skal se på handler om å finne primtall. Primtall er som kjent tall som kun kan deles perfekt på seg selv og på 1. Hva betyr det at noe kan deles perfekt? Det betyr at vi ikke får noen *rest* når vi deler. Dette er tydelig når vi skriver det ut som brøk:\n",
    "$$\\frac{7}{5} = 1 + \\frac{2}{5}.$$\n",
    "Her ser vi at 7 går opp i 5 én gang, og vi får en rest på 2, dette er fordi 7 kan skrives som $5+2$. I Python kan vi finne disse to talene ved å bruke de to matematiske operasjonene heltallsdivisjon `//` og modulus `%`. Heltallsdivisjon gir antall ganger ett tall går opp i et annet, og det vil alltid være et helt tall. Modulus gir resten, det som er igjen."
   ]
  },
  {
   "cell_type": "code",
   "execution_count": 92,
   "metadata": {},
   "outputs": [
    {
     "name": "stdout",
     "output_type": "stream",
     "text": [
      "1\n",
      "2\n"
     ]
    }
   ],
   "source": [
    "print(7//5)\n",
    "print(7%5)"
   ]
  },
  {
   "cell_type": "markdown",
   "metadata": {},
   "source": [
    "Vi kan sjekke om et tall er primtall ved å se på resten etter å ha delt  på alle tall fra og med 2, opp til (men ikke med) tallet selv. Om det er en rest på 0 er det perfekt delbart, og dermed er tallet *ikke* ett primtall. Om løkka blir ferdig og vi ikke har funnet noen kandidater, så må tallet følgelig være et primtall. Funksjonen vår vil ikke fungere som den skal om tallet vi sjekker er 1 eller 2, for da vil ikke løkka kunne kjøre (det finnes ingen tall fra og med 2 til (men ikke med) 2. For disse bruker vi en if-test først."
   ]
  },
  {
   "cell_type": "code",
   "execution_count": 99,
   "metadata": {},
   "outputs": [],
   "source": [
    "def er_primtall(n):\n",
    "    if n == 1:\n",
    "        return False\n",
    "    \n",
    "    if n == 2:\n",
    "        return True\n",
    "    \n",
    "    # Løkk over alle muligheter\n",
    "    for i in range(2, n):\n",
    "        # Sjekk om n er perfekt delbart med tallet\n",
    "        if n % i == 0:\n",
    "            return False\n",
    "    \n",
    "    # Fant ingen tall, ergo er n et primtall\n",
    "    return True"
   ]
  },
  {
   "cell_type": "markdown",
   "metadata": {},
   "source": [
    "La oss teste funksjonen vår"
   ]
  },
  {
   "cell_type": "code",
   "execution_count": 102,
   "metadata": {},
   "outputs": [
    {
     "name": "stdout",
     "output_type": "stream",
     "text": [
      "Skal være primtall:\n",
      "==========================\n",
      "True\n",
      "True\n",
      "True\n",
      "True\n",
      "True\n",
      "\n",
      "Skal ikke være primtall:\n",
      "==========================\n",
      "False\n",
      "False\n",
      "False\n",
      "False\n",
      "False\n"
     ]
    }
   ],
   "source": [
    "print(\"Skal være primtall:\")\n",
    "print(\"==========================\")\n",
    "print(er_primtall(2))\n",
    "print(er_primtall(3))\n",
    "print(er_primtall(5))\n",
    "print(er_primtall(7))\n",
    "print(er_primtall(11))\n",
    "\n",
    "print(\"\\nSkal ikke være primtall:\")\n",
    "print(\"==========================\")\n",
    "print(er_primtall(1))\n",
    "print(er_primtall(4))\n",
    "print(er_primtall(8))\n",
    "print(er_primtall(9))\n",
    "print(er_primtall(10))"
   ]
  },
  {
   "cell_type": "markdown",
   "metadata": {},
   "source": [
    "Vi ser at funksjonen vår fungerer som forventet. La oss bruke funksjonen vår til å finne alle primtall mindre enn 100."
   ]
  },
  {
   "cell_type": "code",
   "execution_count": null,
   "metadata": {},
   "outputs": [],
   "source": [
    "for tall in range(1, 101):\n",
    "    if er_primtall(tall):\n",
    "        print(tall)"
   ]
  },
  {
   "cell_type": "markdown",
   "metadata": {},
   "source": [
    "Siden programmet vårt sjekker hvert eneste primtall vil det gå ganske tregt om vi skal for eksempel finne hvert primtall under én million, det vil nok ta minst et par minutter. Om vi skal gå enda lenger opp begynner det å bli umulig. Vi sier at løsningen vår *skalerer* ikke."
   ]
  },
  {
   "cell_type": "markdown",
   "metadata": {},
   "source": [
    "Det er et par måter vi kan forbedre `er_primtall` funksjonen vår på. For eksempel vet vi jo at partall aldri er primtall (med unntak av 2), siden partall per definisjon er perfekt delbare på 2. Så vi trenger ikke å prøve *alle* tall, vi trenger bare å prøve oddetallene. Vi sjekker først om `n` er et partall, i hvilket tilfelle er den ikke et primtall. Om `n` er et oddetall trenger vi bare prøve oddetall i løkka: `for i in range(3, n, 2)`."
   ]
  },
  {
   "cell_type": "code",
   "execution_count": 107,
   "metadata": {},
   "outputs": [],
   "source": [
    "def er_primtall(n):\n",
    "    if n == 1:\n",
    "        return False\n",
    "    \n",
    "    if n == 2:\n",
    "        return True\n",
    "    \n",
    "    # Sjekk om n er et partall\n",
    "    if n % 2 == 0:\n",
    "        return False\n",
    "    \n",
    "    # Løkk over alle muligheter (bare oddetall)\n",
    "    for i in range(3, n, 2):\n",
    "        # Sjekk om n er perfekt delbart med tallet\n",
    "        if n % i == 0:\n",
    "            return False\n",
    "    \n",
    "    # Fant ingen tall, ergo er n et primtall\n",
    "    return True"
   ]
  },
  {
   "cell_type": "markdown",
   "metadata": {},
   "source": [
    "En enda bedre forenkling vi kan se er at vi egentlig ikke trenger å sjekke tall opp til $n$, men til $\\sqrt{n}$. Hvis du ikke ser hvorfor kan du ta en titt på [denne wikipedia artikkelen](https://en.wikipedia.org/wiki/Primality_test) som viser hvorfor. Artikkelen går igjennom er par til forenklinger og ender opp med funksonen vi viser under. Målet er ikke at dere skal skjønne denne, men se hvordan man kan gå i steg fra en enkel idé til en bedre og raskere én."
   ]
  },
  {
   "cell_type": "code",
   "execution_count": 114,
   "metadata": {},
   "outputs": [],
   "source": [
    "def er_primtall(n):\n",
    "    if n == 1:\n",
    "       return False\n",
    "    elif n <= 3:\n",
    "       return True\n",
    "    \n",
    "    if n % 2 == 0 or n % 3 == 0:\n",
    "        return False\n",
    "    \n",
    "    i = 5\n",
    "    while i**2 <= n:\n",
    "        if n % i == 0 or n % (i + 2) == 0:\n",
    "            return False\n",
    "        i += 6\n",
    "        \n",
    "    return True"
   ]
  },
  {
   "cell_type": "markdown",
   "metadata": {},
   "source": [
    "### Primtallssil\n",
    "\n",
    "En helt annen måte å finne primtall på, som ikke baserer seg på å faktisk sjekke delbarhet er en *primtallssil*, også kalt [Eratosthenes' sil](https://en.wikipedia.org/wiki/Sieve_of_Eratosthenes) etter den gamle greske matematikeren som fant den opp. Det er en veldig elegant algoritme for å finne primtall. Gå inn på lenken for å lese detaljer.\n",
    "\n",
    "Primtallssilen fungerer ved at vi tar alle tall opp til et eller annet stort tall $n$, la oss si en million. Så siler den ut alle primtallene fra denne mengden med tall. Måten den gjør det på er som følger:\n",
    "\n",
    "1. Vi starter med å anta at alle tallene i lista er primtall\n",
    "2. Vi begynner så å jobbe oss oppover i tallene fra og med 2 (fordi 1 er litt sær, og ikke et primtall)\n",
    "3. For hvert tall vi møter på som vi fortsatt mener er et primtall, så markerer vi alle *multipler* av det tallet som *ikke* primtall.\n",
    "4. Vi hopper over alle tall i lista som er markert som ikke primtall.\n",
    "\n",
    "La oss se på et eksempel der vi skal finne alle primtall opp til og med 10 med en primtallssil. Da går det som følger:\n",
    "\n",
    "* Vi starer på 2, dette er et primtall. Da markerer vi resten av 2-gangen som *ikke primtal* (det vil si 4, 6, 8, 10)\n",
    "* Vi går så til 3, denne er fortsatt regnet som et primtall, fordi den ikke er i 2-gangen. Derfor marker vi alle tall oppover i 3-gangen som ikke primtall (dvs 6 og 9).\n",
    "* Vi går til 4, men denne er markert som ikke primtall fordi den er i 2-gangen.\n",
    "* Vi går til 5, dette er et primtall, så vi markerer alle tall oppover i 5-gangen som ikke primtall.\n",
    "* Vi hopper over 6 fordi den er i 2-gangen (og 3-gangen)\n",
    "* Vi går til 7, dette er et primtall\n",
    "* Vi hopper over 8, 9 og 10 siden disse er markert som ikke primtall.\n",
    "\n",
    "Denne prosessen er lett å gjøre med penn og papir når det er få antall tall. Se denne visualiseringen fra Wikipedia som til og med er fargekodet:\n",
    "<img src=\"https://upload.wikimedia.org/wikipedia/commons/b/b9/Sieve_of_Eratosthenes_animation.gif\" width=300>\n",
    "Kilde: [Wikipedia](https://en.wikipedia.org/wiki/Sieve_of_Eratosthenes)"
   ]
  },
  {
   "cell_type": "markdown",
   "metadata": {},
   "source": [
    "#### Lage en primtallssil i Python\n",
    "\n",
    "Det er forholdsvis enkelt å lage en primtallssil i Python. Vi starter med å lage en lang liste med $N$ elementer. Hvert element i lista svarer til et tall mellom 1 og N. Vi lar hvert element i lista være `True` for å indikere at vi tror det er et primtall.\n",
    "\n",
    "Lista kan lages som følger (Vi legger til ett ekstra element, slik at vi kan bruke indeksen til tallet til å bety tallet selv, dvs, `primtallssil[4]` betyr tallet 4."
   ]
  },
  {
   "cell_type": "code",
   "execution_count": 123,
   "metadata": {},
   "outputs": [],
   "source": [
    "N = 10\n",
    "primtallssil = [True]*(N+1)\n",
    "\n",
    "# Vi vet at 0 og 1 ikke er primtall\n",
    "primtallssil[0] = False"
   ]
  },
  {
   "cell_type": "markdown",
   "metadata": {},
   "source": [
    "Så kan vi løkke over lista. For hvert element sjekker vi om verdien er `True`, i hvilket tilfelle tallet er et primtall, eller `False`, i hvilket tilfelle det ikke er det."
   ]
  },
  {
   "cell_type": "code",
   "execution_count": 124,
   "metadata": {},
   "outputs": [
    {
     "name": "stdout",
     "output_type": "stream",
     "text": [
      "[False, True, True, True, False, True, False, True, False, False, False]\n",
      "[2, 3, 5, 7]\n"
     ]
    }
   ],
   "source": [
    "primtall = []\n",
    "for i in range(2, N+1):\n",
    "    if primtallssil[i] == True:\n",
    "        # Vi har funnet et primtall!\n",
    "        primtall.append(i)\n",
    "        # Vi må nå utlekke alle multipler\n",
    "        k = 2\n",
    "        while k*i <= N:\n",
    "            primtallssil[k*i] = False\n",
    "            k += 1\n",
    "\n",
    "print(primtallssil)\n",
    "print(primtall)"
   ]
  },
  {
   "cell_type": "markdown",
   "metadata": {},
   "source": [
    "Vi ser at primtallssilen fungerer fint for eksempelet vårt med $N=10$. La oss prøve med et større tall."
   ]
  },
  {
   "cell_type": "code",
   "execution_count": null,
   "metadata": {
    "scrolled": false
   },
   "outputs": [],
   "source": [
    "N = 1000000\n",
    "primtallssil = [True]*(N+1)\n",
    "\n",
    "# Vi vet at 0 og 1 ikke er primtall\n",
    "primtallssil[0] = False\n",
    "\n",
    "primtall = []\n",
    "for i in range(2, N+1):\n",
    "    if primtallssil[i] == True:\n",
    "        # Vi har funnet et primtall!\n",
    "        primtall.append(i)\n",
    "        # Vi må nå utlekke alle multipler\n",
    "        k = 2\n",
    "        while k*i <= N:\n",
    "            primtallssil[k*i] = False\n",
    "            k += 1\n",
    "\n",
    "print(primtall)"
   ]
  },
  {
   "cell_type": "markdown",
   "metadata": {},
   "source": [
    "Vi ser at primtallssilen er superrask, mye raskere en delemetoden vi brukte først. "
   ]
  },
  {
   "cell_type": "markdown",
   "metadata": {},
   "source": [
    "# Hemmelige beskjeder\n",
    "\n",
    "Det andre eksempelet vi ser på handler om kryptografi, som er kunsten av å lage hemmelige beskjeder. Dette eksempelet er delvis basert på et opplegg fra [KidsaKoder](http://oppgaver.kidsakoder.no/python/hemmelige_koder/hemmelige_koder.html).\n",
    "\n",
    "Når vi skal sende en hemmelig beskjed må vi først ta beskjeden vi ønsker å sende, å gjøre den uleselig for andre. Det å gjøre beskjeden uleselig kaller vi å *kryptere* den. Når beskjeden kommer frem til mottakeren, må de gjøre den leselig igjen, dette kalles å *dekryptere*. Målet er at det er kun den som beskjeden *egentlig* er ment for som skal kunne dekryptere den, og dette gjør man ved at sender og mottaker har blitt enig om en *hemmelig nøkkel* på forhånd. Kun den som har nøkkelen kan dekryptere meldingen.\n",
    "\n",
    "### Cæsarschiffer\n",
    "\n",
    "En av de enkleste måtene å lage en hemmelig beskjed på som kan dekrypteres med en hemmelig nøkkel er å flytte alle bokstavene et gitt antall plasser fremover eller bakover i alfabetet \n",
    "<img src=\"https://upload.wikimedia.org/wikipedia/commons/thumb/2/2b/Caesar3.svg/500px-Caesar3.svg.png\" width=300>\n",
    "\n",
    "La oss implementere et Cæsarschiffer. Vi har lyst til å lage en funksjon som krypterer meldingen, og en som dekrypterer. Men før vi kan få til det må vi forstå hvordan vi kan flytte en bokstav fremover eller bakover i alfabetet."
   ]
  },
  {
   "cell_type": "markdown",
   "metadata": {},
   "source": [
    "####  Å flytte én bokstav\n",
    "\n",
    "Det vi ønsker å gjøre er at vi kan si at for eksempel $B+3 = F$, men dette går ikke i Python, for vi kan ikke legge sammen tekst og tall. Så det vi isteden vil gjøre, er å lage en funksjon, slik at `flytt_bokstav(\"B\", 3)` gir F tilbake. \n",
    "\n",
    "For å gjøre dette trenger vi at hver bokstav i alfabetet hører til et tall."
   ]
  },
  {
   "cell_type": "code",
   "execution_count": 18,
   "metadata": {},
   "outputs": [
    {
     "name": "stdout",
     "output_type": "stream",
     "text": [
      "29\n"
     ]
    }
   ],
   "source": [
    "alfabet = 'ABCDEFGHIJKLMNOPQRSTUVWXYZÆØÅ'\n",
    "print(len(alfabet))"
   ]
  },
  {
   "cell_type": "markdown",
   "metadata": {},
   "source": [
    "Tallet til hver bokstav er nå hvor i alfabetet den ligger. Vi kan finne dette talled med `find`-funksjonen"
   ]
  },
  {
   "cell_type": "code",
   "execution_count": 19,
   "metadata": {},
   "outputs": [
    {
     "name": "stdout",
     "output_type": "stream",
     "text": [
      "0\n",
      "5\n"
     ]
    }
   ],
   "source": [
    "print(alfabet.find('A'))\n",
    "print(alfabet.find('F'))"
   ]
  },
  {
   "cell_type": "markdown",
   "metadata": {},
   "source": [
    "Vi kan altså bruke `alfabet.find` til å finne posisjonen til en hvilket som helst bokstav. Merk at vi begynner å telle på 0. Tilsvarende, om vi har en posisjon og ønsker å finne hvilken bokstav det svarer til kan vi bruke vanlig indeksering"
   ]
  },
  {
   "cell_type": "code",
   "execution_count": 20,
   "metadata": {},
   "outputs": [
    {
     "name": "stdout",
     "output_type": "stream",
     "text": [
      "I\n",
      "J\n",
      "K\n"
     ]
    }
   ],
   "source": [
    "print(alfabet[8])\n",
    "print(alfabet[9])\n",
    "print(alfabet[10])"
   ]
  },
  {
   "cell_type": "markdown",
   "metadata": {},
   "source": [
    "Vi kan nå flytte en bokstav ved å først gjøre den om til en posisjon, så legge til forflytningen til posisjonen, så konverte tilbake til en bokstav. La oss prøve"
   ]
  },
  {
   "cell_type": "code",
   "execution_count": 24,
   "metadata": {},
   "outputs": [],
   "source": [
    "def flytt_bokstav(bokstav, antall_steg):\n",
    "    \"\"\"Flytt en bokstav n hakk bakover i alfabetet.\"\"\"\n",
    "    # Konverter bokstav til posisjon i alfabetet\n",
    "    posisjon = alfabet.find(bokstav)\n",
    "    \n",
    "    # Legg til forflytningen for å finne den nye posisjonen\n",
    "    ny_posisjon = posisjon + antall_steg\n",
    "    # Konverter den nye posisjonen til tilhørende bokstav\n",
    "    ny_bokstav = alfabet[ny_posisjon]\n",
    "    \n",
    "    # Send den nye bokstaven tilbake\n",
    "    return ny_bokstav"
   ]
  },
  {
   "cell_type": "code",
   "execution_count": 25,
   "metadata": {},
   "outputs": [
    {
     "data": {
      "text/plain": [
       "'E'"
      ]
     },
     "execution_count": 25,
     "metadata": {},
     "output_type": "execute_result"
    }
   ],
   "source": [
    "flytt_bokstav(\"B\", 3)"
   ]
  },
  {
   "cell_type": "markdown",
   "metadata": {},
   "source": [
    "Flott, vi ser at `flytt_bokstaven` funksjonen fungerer som forventet. Men hva skjer dersom vi er på endene av alfabetet? Si vi er på 'Å' og vil flytte et hakk lenger ned i alfabetet, eller at vi er på 'A' og vil flytte ett hakk oppover i alfabetet. Det vi *ønsker* at skal skje, er at vi løkker rundt til andre siden. Så hvis vi er på 'Å' og skal gå tre plasser lenger ned i alfabetet ender vi på 'C'. Vi kan illustrere dette ved å tegne opp alfabetet i en sirkel\n",
    "\n",
    "<img src=\"fig/alfabet_løkke.png\" width=350>\n",
    "\n",
    "Så når vi kommer til \"Å\" og ønsker å gå videre bare starter vi på \"A\" igjen, og tilsvarende motsatt vei."
   ]
  },
  {
   "cell_type": "markdown",
   "metadata": {},
   "source": [
    "Å gå mot klokka i denne figuren tilsvarer å bruke en negativ `n` i funksjonen vår. Og dette fungerer faktisk helt fint \"rett ut av boksen\", selv om vi er på \"kanten\"."
   ]
  },
  {
   "cell_type": "code",
   "execution_count": 30,
   "metadata": {},
   "outputs": [
    {
     "name": "stdout",
     "output_type": "stream",
     "text": [
      "C\n",
      "Å\n"
     ]
    }
   ],
   "source": [
    "print(flytt_bokstav(\"F\", -3))\n",
    "print(flytt_bokstav(\"A\", -1))"
   ]
  },
  {
   "cell_type": "markdown",
   "metadata": {},
   "source": [
    "For 'A' til 'Å' overgangen fungerer dette fordi den nye posisjonen blir $0 - 1 = -1$, og å indeksere med negative tall betyr at man teller fra høyre. Helt til høyre i lista vår ligger jo 'Å', så da treffer vi helt riktig. Å gå med klokka på den andre \"kanten\" derimot, er verre, la oss prøve:"
   ]
  },
  {
   "cell_type": "code",
   "execution_count": 27,
   "metadata": {},
   "outputs": [
    {
     "ename": "IndexError",
     "evalue": "string index out of range",
     "output_type": "error",
     "traceback": [
      "\u001b[0;31m---------------------------------------------------------------------------\u001b[0m",
      "\u001b[0;31mIndexError\u001b[0m                                Traceback (most recent call last)",
      "\u001b[0;32m<ipython-input-27-2ded50fd15d5>\u001b[0m in \u001b[0;36m<module>\u001b[0;34m()\u001b[0m\n\u001b[0;32m----> 1\u001b[0;31m \u001b[0mflytt_bokstav\u001b[0m\u001b[0;34m(\u001b[0m\u001b[0;34m\"Å\"\u001b[0m\u001b[0;34m,\u001b[0m \u001b[0;36m1\u001b[0m\u001b[0;34m)\u001b[0m\u001b[0;34m\u001b[0m\u001b[0m\n\u001b[0m",
      "\u001b[0;32m<ipython-input-24-c197cb6875c9>\u001b[0m in \u001b[0;36mflytt_bokstav\u001b[0;34m(bokstav, antall_steg)\u001b[0m\n\u001b[1;32m      7\u001b[0m     \u001b[0mny_posisjon\u001b[0m \u001b[0;34m=\u001b[0m \u001b[0mposisjon\u001b[0m \u001b[0;34m+\u001b[0m \u001b[0mantall_steg\u001b[0m\u001b[0;34m\u001b[0m\u001b[0m\n\u001b[1;32m      8\u001b[0m     \u001b[0;31m# Konverter den nye posisjonen til tilhørende bokstav\u001b[0m\u001b[0;34m\u001b[0m\u001b[0;34m\u001b[0m\u001b[0m\n\u001b[0;32m----> 9\u001b[0;31m     \u001b[0mny_bokstav\u001b[0m \u001b[0;34m=\u001b[0m \u001b[0malfabet\u001b[0m\u001b[0;34m[\u001b[0m\u001b[0mny_posisjon\u001b[0m\u001b[0;34m]\u001b[0m\u001b[0;34m\u001b[0m\u001b[0m\n\u001b[0m\u001b[1;32m     10\u001b[0m \u001b[0;34m\u001b[0m\u001b[0m\n\u001b[1;32m     11\u001b[0m     \u001b[0;31m# Send den nye bokstaven tilbake\u001b[0m\u001b[0;34m\u001b[0m\u001b[0;34m\u001b[0m\u001b[0m\n",
      "\u001b[0;31mIndexError\u001b[0m: string index out of range"
     ]
    }
   ],
   "source": [
    "flytt_bokstav(\"Å\", 1)"
   ]
  },
  {
   "cell_type": "markdown",
   "metadata": {},
   "source": [
    "Her får vi en `IndexError` fordi vi bruker en indeks som er for stor. Posisjonen til Å er 28 (siden vi begynner å telle på 0), så når vi legger til 1 får vi 29. Men strengen vår har bare indekser fra 0 til og med 28, det finnes ingen `alfabet[29]`, så programmet vårt kræsjer. \n",
    "\n",
    "Det vi vil her, er at dersom den nye posisjonen blir 29 (eller større), så trekker vi fra 29. På denne måten blir 29 til 0, slik at 'Å' blir til 'A'. Om vi går to steg \"over grensen\" får vi $28+2 = 30$, trekker vi fra 29 blir det 1, som er 'B', perfekt!\n",
    "\n",
    "Det finnes to måter vi kan gjøre dette på nå. Den mest intuitive er kanskje å bruke en if-test:\n",
    "\n",
    "```Python\n",
    "if ny_posisjon >= 29:\n",
    "    ny_posisjon -= 29\n",
    "```\n",
    "Dette fungerer fint og er lett å kode. Men det finnes en enda enklere måte som er litt mer matematisk, vi kan bruke *modulus* operatoren\n",
    "```Python\n",
    "ny_posisjon = (posisjon + n) % 29\n",
    "```\n",
    "Her er `%` modulus, som gir resten etter en divisjon. Så når vi skriver `% 29` vil vi trekke fra 29 så mange ganger som mulig. Om den nye posisjonen for eksempel blir 33 så blir $33 % 29 = 4$, fordi etter vi trekker fra 29 én gang sitter vi igjen med 4."
   ]
  },
  {
   "cell_type": "markdown",
   "metadata": {},
   "source": [
    "### Kryptere en hel beskjed\n",
    "\n",
    "Vi er nå klare til å kryptere en hel beskjed. Vi lager først en helt tom tekststreng som skal være den nye, krypterte beskjeden vår. Deretter løkker vi igjennom den originale beskjeden bokstav for bokstav. For hver bokstav flytter vi den $n$ hakk, bokstaven vi ender opp på legger vi til i den nye tekststrengen vår. Alle bokstaver flyttes like mange hakk, og det er dette som er *nøkkelen* vår. Tekststrenger har ikke en `append`-metode på samme måte som lister har, så isteden bruker vi bare `+=` for å legge til bokstaver.\n",
    "\n",
    "Til slutt kan det være det er mellomrom og andre spesielle tegn i beskjeden vår, og disse klarer vi ikke å flytte på samme måte, fordi de er jo ikke i alfabetet til å begynne med. Disse tegnene lar vi bare være som de er. Vi kan sjekke om et tegn er en vanlig bokstav eller utenfor alfabetet med en if-test: `if bokstav in alfabet:`.\n",
    "\n",
    "\n",
    "\n",
    "\n",
    "Måten vi gjør dette på er å løkke igjennom beskjeden, og flytte hver bokstav like mange hakk. Vi lager først en\n",
    "\n",
    "\n",
    "Mellomrom og andre spesielle tegn i beskjeden vår klarer vi ikke å flytte, for de er ikke i alfabetet - så vi lar de tegnene være som de er."
   ]
  },
  {
   "cell_type": "code",
   "execution_count": 52,
   "metadata": {},
   "outputs": [],
   "source": [
    "def krypter(beskjed, nøkkel):\n",
    "    \"\"\"Ta en beskjed og en nøkkel og krypter den med et cæsarschiffer.\"\"\"\n",
    "    \n",
    "    # Starter med en tom beskjed\n",
    "    kryptert_beskjed = ''\n",
    "    \n",
    "    # Løkk over den originale beskjeden\n",
    "    for bokstav in beskjed.upper():\n",
    "        # Sjekk om bokstaven er vanlig eller spesiell\n",
    "        if bokstav in alfabet:\n",
    "            test = flytt_bokstav(bokstav, nøkkel)\n",
    "            kryptert_beskjed += flytt_bokstav(bokstav, nøkkel)\n",
    "        else:\n",
    "            kryptert_beskjed += bokstav\n",
    "    \n",
    "    return kryptert_beskjed"
   ]
  },
  {
   "cell_type": "markdown",
   "metadata": {},
   "source": [
    "La oss prøve på en hemmelig beskjed"
   ]
  },
  {
   "cell_type": "code",
   "execution_count": 53,
   "metadata": {},
   "outputs": [
    {
     "name": "stdout",
     "output_type": "stream",
     "text": [
      "JZ RBXFZDVF ZACFXVB ØÅCØØVB QHHV-WVAHVB\n"
     ]
    }
   ],
   "source": [
    "beskjed = \"VI ANGRIPER IMORGEN KLOKKEN ÅTTE-FEMTEN\"\n",
    "print(krypter(beskjed, 17))"
   ]
  },
  {
   "cell_type": "markdown",
   "metadata": {},
   "source": [
    "Merk at vi skriver beskjeden i store bokstaver, ettersom at vi lagde alfabetet med store bokstaver. Det beste hadde vært å bruke `beskjed.upper()` i funksjonen vår, slik at selv om brukeren skrev små bokstaver ble de tolket som store."
   ]
  },
  {
   "cell_type": "markdown",
   "metadata": {},
   "source": [
    "#### Dekryptere en beskjed\n",
    "\n",
    "Å dekryptere en beskjed er egentlig helt likt som å kryptere den, vi må bare \"kryptere\" den på nytt, men med motsatt antall steg. Så om nøkkelen er 5, så må vi flytte alle bokstavene -5. Istedenfor å lage en helt ny funksjon, så gjør vi nå et smart triks, vi \"wrapper\" `krypter` funksjonen vår"
   ]
  },
  {
   "cell_type": "code",
   "execution_count": 54,
   "metadata": {},
   "outputs": [],
   "source": [
    "def dekrypter(beskjed, nøkkel):\n",
    "    return krypter(beskjed, -nøkkel)"
   ]
  },
  {
   "cell_type": "markdown",
   "metadata": {},
   "source": [
    "På denne sparer vi masse arbeid. Det er også veldig lurt at dersom vi finner en feil og endrer på `krypter`, så blir `dekrypter` automatisk fikset også. La oss se om det funker."
   ]
  },
  {
   "cell_type": "code",
   "execution_count": 56,
   "metadata": {},
   "outputs": [
    {
     "name": "stdout",
     "output_type": "stream",
     "text": [
      "VI ANGRIPER IMORGEN KLOKKEN ÅTTE-FEMTEN\n",
      "ÅP HUNYPWLY PTVYNLU RSVRRLU GÆÆL-MLTÆLU\n",
      "VI ANGRIPER IMORGEN KLOKKEN ÅTTE-FEMTEN\n"
     ]
    }
   ],
   "source": [
    "print(beskjed)\n",
    "kryptert_beskjed = krypter(beskjed, 7)\n",
    "print(kryptert_beskjed)\n",
    "dekryptert_beskjed = dekrypter(kryptert_beskjed, 7)\n",
    "print(dekryptert_beskjed)"
   ]
  },
  {
   "cell_type": "markdown",
   "metadata": {},
   "source": [
    "Så lenge begge parter er enige om hvilken nøkkel de skal kryptere beskjeden med, og hvordan de skal gjøre det, så kan de nå sende hemmelige beskjeder."
   ]
  },
  {
   "cell_type": "markdown",
   "metadata": {},
   "source": [
    "#### Forbedre på Cæsarschifferet\n",
    "\n",
    "Det er to hovedproblem med metoden vi nettopp har brukt. Det ene er at spesielle tegn består, og man kan skjønne en del av beskjeden basert på mellomrom, tall, osv. Dette var grunnen til at vi skrev ut \"åtte-femten\", istedenfor å skrive 8:15 i beskjeden. For å unngå dette kan vi kreve at alle beskjeder vi sener består av _kun_ bokstaver. Dette er det som gjøres i praksis, man dropper mellomrom, utropstegn og alt annet, så lar man den som mottar beskjeden tolke seg frem til dette. La oss lag en funksjon som tar en vanlig beskjed og fjerner alt unntat de vanlige bokstavene"
   ]
  },
  {
   "cell_type": "code",
   "execution_count": 63,
   "metadata": {},
   "outputs": [
    {
     "data": {
      "text/plain": [
       "'VIANGRIPERIMORGENÅTTEFEMTEN'"
      ]
     },
     "execution_count": 63,
     "metadata": {},
     "output_type": "execute_result"
    }
   ],
   "source": [
    "def kun_bokstaver(beskjed):\n",
    "    ny_beskjed = \"\"\n",
    "    for tegn in beskjed.upper():\n",
    "        if tegn in alfabet:\n",
    "            ny_beskjed += tegn\n",
    "    return ny_beskjed    \n",
    "\n",
    "kun_bokstaver(\"Vi angriper imorgen åtte-femten\")"
   ]
  },
  {
   "cell_type": "markdown",
   "metadata": {},
   "source": [
    "Det andre problemet vi har er mye verre. Og det er at det finnes egentlig bare like mange mulige nøkler som det er antall bokstaver i alfabetet, det vil si 29. Dette er fordi alle større tall enn 29 betyr bare at vi tar en hel runde først, og så litt, og det tjener vi ingenting på. Det gjør at noen som vil *knekke koden* vår kan bare prøve alle nøklene. Til slutt finner de noe som ser ut som en beskjed. La oss prøve: Vi lar datamaskinen treffe en tilfeldig nøkkel og kryptere beskjeden uten at vi får vite nøkkelen, så prøver vi alle nøklene etterhverandre, klarer du å finne beskjeden?"
   ]
  },
  {
   "cell_type": "code",
   "execution_count": 68,
   "metadata": {},
   "outputs": [
    {
     "name": "stdout",
     "output_type": "stream",
     "text": [
      "0 QDYIBMDKÅMDHJMBÅIXOOÅAÅHOÅI\n",
      "1 PCXHALCJØLCGILAØHWNNØÅØGNØH\n",
      "2 OBWGÅKBIÆKBFHKÅÆGVMMÆØÆFMÆG\n",
      "3 NAVFØJAHZJAEGJØZFULLZÆZELZF\n",
      "4 MÅUEÆIÅGYIÅDFIÆYETKKYZYDKYE\n",
      "5 LØTDZHØFXHØCEHZXDSJJXYXCJXD\n",
      "6 KÆSCYGÆEWGÆBDGYWCRIIWXWBIWC\n",
      "7 JZRBXFZDVFZACFXVBQHHVWVAHVB\n",
      "8 IYQAWEYCUEYÅBEWUAPGGUVUÅGUA\n",
      "9 HXPÅVDXBTDXØADVTÅOFFTUTØFTÅ\n",
      "10 GWOØUCWASCWÆÅCUSØNEESTSÆESØ\n",
      "11 FVNÆTBVÅRBVZØBTRÆMDDRSRZDRÆ\n",
      "12 EUMZSAUØQAUYÆASQZLCCQRQYCQZ\n",
      "13 DTLYRÅTÆPÅTXZÅRPYKBBPQPXBPY\n",
      "14 CSKXQØSZOØSWYØQOXJAAOPOWAOX\n",
      "15 BRJWPÆRYNÆRVXÆPNWIÅÅNONVÅNW\n",
      "16 AQIVOZQXMZQUWZOMVHØØMNMUØMV\n",
      "17 ÅPHUNYPWLYPTVYNLUGÆÆLMLTÆLU\n",
      "18 ØOGTMXOVKXOSUXMKTFZZKLKSZKT\n",
      "19 ÆNFSLWNUJWNRTWLJSEYYJKJRYJS\n",
      "20 ZMERKVMTIVMQSVKIRDXXIJIQXIR\n",
      "21 YLDQJULSHULPRUJHQCWWHIHPWHQ\n",
      "22 XKCPITKRGTKOQTIGPBVVGHGOVGP\n",
      "23 WJBOHSJQFSJNPSHFOAUUFGFNUFO\n",
      "24 VIANGRIPERIMORGENÅTTEFEMTEN\n",
      "25 UHÅMFQHODQHLNQFDMØSSDEDLSDM\n",
      "26 TGØLEPGNCPGKMPECLÆRRCDCKRCL\n",
      "27 SFÆKDOFMBOFJLODBKZQQBCBJQBK\n",
      "28 REZJCNELANEIKNCAJYPPABAIPAJ\n"
     ]
    }
   ],
   "source": [
    "beskjed = kun_bokstaver(\"Vi angriper imorgen åtte-femten\")\n",
    "kryptert_beskjed = krypter(beskjed, randint(0, 29))\n",
    "\n",
    "for gjett in range(0, 29):\n",
    "    print(gjett, dekrypter(kryptert_beskjed, gjett))"
   ]
  },
  {
   "cell_type": "markdown",
   "metadata": {},
   "source": [
    "Det er kanskje litt slitsomt å knekke koden ved å sjekke alle muligheter her, men om alle beskjeder sendes med samme nøkkel så trenger vi bare å knekke koden én gang, så kan vi bare bruke den samme nøkkelen på alle fremtidige beskjeder. "
   ]
  },
  {
   "cell_type": "markdown",
   "metadata": {},
   "source": [
    "#### Cæsarschiffer med passord\n",
    "\n",
    "Nå skal vi gå vekk fra å ha ett enkelt tall som nøkkel og isteden se hvordan vi kan gjøre nesten det samme, men å bruke et passord isteden. La oss først velge oss et eksempelnøkkel: `HUBRO` (en hubro er en type ugle).\n",
    "\n",
    "<img src=\"https://upload.wikimedia.org/wikipedia/commons/thumb/d/d1/Eurasian_Eagle_Owl.jpg/220px-Eurasian_Eagle_Owl.jpg\" width=200>\n",
    "\n",
    "Det vi nå gjør er å oversette passordet vårt til en rekke tall, på samme måte som vi har funnet posisjonen tidligere. Tallene vi finner kaller vi for *keypadden* vår\n"
   ]
  },
  {
   "cell_type": "code",
   "execution_count": 71,
   "metadata": {},
   "outputs": [
    {
     "name": "stdout",
     "output_type": "stream",
     "text": [
      "[7, 20, 1, 17, 14]\n"
     ]
    }
   ],
   "source": [
    "passord = \"HUBRO\"\n",
    "keypad = []\n",
    "\n",
    "for bokstav in passord:\n",
    "    keypad.append(alfabet.find(bokstav))\n",
    "\n",
    "print(keypad)"
   ]
  },
  {
   "cell_type": "markdown",
   "metadata": {},
   "source": [
    "Det vi gjør nå er å kryptere beskjeden vår, men for hver bokstav ser vi på det neste tallet i keypadden. Så i beskjeden vår flytter vi den første bokstaven 7 hakk, den neste bokstaven 20 hakk, den nest 1 hakk, osv. Men, her har vi kanskje et problem, for passordet vårt er jo mye kortere enn beskjeden. Det vi gjør for å fikse dette er at vi bare løkker igjennom passordet vårt når vi har brukt det opp, dette kan vi gjøre på samme måte som for alfabetet vårt, ved å bruke en if-test, eller ved å bruke modulus-operatoren (`%`)."
   ]
  },
  {
   "cell_type": "code",
   "execution_count": 84,
   "metadata": {},
   "outputs": [],
   "source": [
    "def krypter_med_passord(beskjed, passord):\n",
    "    ny_beskjed = \"\"\n",
    "    \n",
    "    # Sørg for at beskjeden er klar for kryptering\n",
    "    beskjed = kun_bokstaver(beskjed)\n",
    "    \n",
    "    # Lag Keypadden\n",
    "    keypad = []\n",
    "    for bokstav in passord:\n",
    "        keypad.append(alfabet.find(bokstav))\n",
    "    \n",
    "    # Tellevariabel for keypadden\n",
    "    teller = 0\n",
    "    \n",
    "    # Løkk over beskjeden og krypter\n",
    "    for bokstav in beskjed:\n",
    "        ny_beskjed += flytt_bokstav(bokstav, keypad[teller])\n",
    "        teller += 1\n",
    "        if teller >= len(keypad):\n",
    "            teller -= len(keypad)\n",
    "    \n",
    "    return ny_beskjed"
   ]
  },
  {
   "cell_type": "code",
   "execution_count": 85,
   "metadata": {},
   "outputs": [
    {
     "name": "stdout",
     "output_type": "stream",
     "text": [
      "VIANGRIPERIMORGENÅTTEFEMTEN\n",
      "ÅÅBBUYÅQVCPDPFULEAHELZFAELE\n"
     ]
    }
   ],
   "source": [
    "print(beskjed)\n",
    "kryptert_beskjed = krypter_med_passord(beskjed, \"HUBRO\")\n",
    "print(kryptert_beskjed)"
   ]
  },
  {
   "cell_type": "markdown",
   "metadata": {},
   "source": [
    "For denne metoden så er det ikke like lett å lage en \"wrapper\" for krypter funksjonen, så vi lager en tilsvarende funksjon for den andre veien"
   ]
  },
  {
   "cell_type": "code",
   "execution_count": 83,
   "metadata": {},
   "outputs": [],
   "source": [
    "def dekrypter_med_passord(beskjed, passord):\n",
    "    ny_beskjed = \"\"\n",
    "    \n",
    "    # Sørg for at beskjeden er klar for kryptering\n",
    "    beskjed = kun_bokstaver(beskjed)\n",
    "    \n",
    "    # Lag Keypadden\n",
    "    keypad = []\n",
    "    for bokstav in passord:\n",
    "        keypad.append(alfabet.find(bokstav))\n",
    "    \n",
    "    # Tellevariabel for keypadden\n",
    "    teller = 0\n",
    "    \n",
    "    # Løkk over beskjeden og krypter\n",
    "    for bokstav in beskjed:\n",
    "        ny_beskjed += flytt_bokstav(bokstav, -keypad[teller])\n",
    "        teller += 1\n",
    "        if teller >= len(keypad):\n",
    "            teller -= len(keypad)\n",
    "    \n",
    "    return ny_beskjed"
   ]
  },
  {
   "cell_type": "code",
   "execution_count": 87,
   "metadata": {},
   "outputs": [
    {
     "name": "stdout",
     "output_type": "stream",
     "text": [
      "VIANGRIPERIMORGENÅTTEFEMTEN\n"
     ]
    }
   ],
   "source": [
    "print(dekrypter_med_passord(kryptert_beskjed, \"HUBRO\"))"
   ]
  },
  {
   "cell_type": "markdown",
   "metadata": {},
   "source": [
    "Mens om vi prøver feil passord får vi bare nonsense"
   ]
  },
  {
   "cell_type": "code",
   "execution_count": 89,
   "metadata": {},
   "outputs": [
    {
     "name": "stdout",
     "output_type": "stream",
     "text": [
      "IWTÆASRMBZEÅYÅJHNXZAUTXZNFW\n"
     ]
    }
   ],
   "source": [
    "print(dekrypter_med_passord(kryptert_beskjed, \"UGLE\"))"
   ]
  },
  {
   "cell_type": "markdown",
   "metadata": {},
   "source": [
    "Det var lett å gjette på nøkkelen i Cæsarschifferet, men å gjette et vilkårlig passord er mye vanskeligere. Jo lengre passordet er jo bedre. Det finnes måter man kan gå frem for å begynne å knekke en slik kode også, men de blir fort veldig tekniske.\n"
   ]
  }
 ],
 "metadata": {
  "kernelspec": {
   "display_name": "Python 3",
   "language": "python",
   "name": "python3"
  },
  "language_info": {
   "codemirror_mode": {
    "name": "ipython",
    "version": 3
   },
   "file_extension": ".py",
   "mimetype": "text/x-python",
   "name": "python",
   "nbconvert_exporter": "python",
   "pygments_lexer": "ipython3",
   "version": "3.6.5"
  }
 },
 "nbformat": 4,
 "nbformat_minor": 2
}
