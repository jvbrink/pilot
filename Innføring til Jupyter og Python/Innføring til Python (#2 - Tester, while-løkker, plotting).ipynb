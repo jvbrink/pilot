{
 "cells": [
  {
   "cell_type": "markdown",
   "metadata": {},
   "source": [
    "# If-tester\n",
    "\n",
    "Vi skal nå begynne å se på tester og logikk. Disse konseptene er viktige for at programmene våres skal kunne forgrene seg og gjøre forskjellige ting basert på forskjellig input fra brukeren eller basert på forskjellige utregninger den har gjort.\n",
    "\n",
    "Den enkleste formen for if-test i Python skrives som følger\n",
    "```Python\n",
    "if <betingelse>:\n",
    "    <kode som utføres hvis betingelsen er sann>\n",
    "```\n",
    "Her er `<betingelse>` noe som kan tolkes som enten *sant* eller *falskt*. Her kan man for eksempel sjekke om to ting er lik hverandre, eller sjekke om et tall er større eller mindre enn et annet tall. I Python kan vi skrive slike betingelser rett ut, dette er et eksempel på noe som kalles *bools logikk*"
   ]
  },
  {
   "cell_type": "code",
   "execution_count": 1,
   "metadata": {},
   "outputs": [
    {
     "name": "stdout",
     "output_type": "stream",
     "text": [
      "True\n"
     ]
    }
   ],
   "source": [
    "a = 2\n",
    "b = 3\n",
    "\n",
    "print(a < b)"
   ]
  },
  {
   "cell_type": "code",
   "execution_count": 2,
   "metadata": {},
   "outputs": [
    {
     "name": "stdout",
     "output_type": "stream",
     "text": [
      "a er mindre enn b!\n"
     ]
    }
   ],
   "source": [
    "if a < b:\n",
    "    print(\"a er mindre enn b!\")"
   ]
  },
  {
   "cell_type": "markdown",
   "metadata": {},
   "source": [
    "Her skrives setningen kun ut hvis det faktisk er slik at a er mindre enn b. Kanskje vi ønsker å skrive ut det motsatte om det er slik at testen *ikke* er sann, da legger vi til en *else*-blokk. \"If\" og \"else\" er engelske ord og betyr \"hvis\"-\"ellers\"."
   ]
  },
  {
   "cell_type": "code",
   "execution_count": 3,
   "metadata": {},
   "outputs": [
    {
     "name": "stdout",
     "output_type": "stream",
     "text": [
      "a er ikke mindre enn b.\n"
     ]
    }
   ],
   "source": [
    "a = 3\n",
    "b = 2\n",
    "\n",
    "if a < b:\n",
    "    print(\"a er mindre enn b!\")\n",
    "else:\n",
    "    print(\"a er ikke mindre enn b.\")"
   ]
  },
  {
   "cell_type": "markdown",
   "metadata": {},
   "source": [
    "Det første eksemplet vi så på hadde kun en *if*-test. Om testen ikke er sann hopper programmet bare over den kodeblokken og går videre. Dette kan vil kalle en *hvis-så* test. Det andre eksempelet har også en *else*-blokk, og da kan vi heller si *hvis-ellers* eller eventuelt *hvis-hvis ikke*. Da er det sånn at *enten* if-blokken *eller* else-blokken kjøres. Det vil aldri skje at begge to kjører, eller at ingen av dem kjører.\n",
    "\n",
    "Merk at vi har skrevet \"a er ikke mindre enn b\" i *else*-blokken, istedenfor å skrive \"b er mindre enn a\". Dette er fordi testen vil fortsatt være falsk om a og b er like store. Om vi vil sjekke om noe er større eller like stort som noe kan vi bruke `>=` og tilsvarende for `<=`. Dette er det samme som å skrive $\\leq$ og $\\geq$ matematisk."
   ]
  },
  {
   "cell_type": "markdown",
   "metadata": {},
   "source": [
    "Vi kan også lage en test som har mer enn to utfall, da bruker vi `elif` for alle de ekstra alternativene. Si for eksempel at vi har et spill med to spillere. På slutten skal vi går vinneren basert på hvem som har mest poeng."
   ]
  },
  {
   "cell_type": "code",
   "execution_count": 4,
   "metadata": {},
   "outputs": [
    {
     "name": "stdout",
     "output_type": "stream",
     "text": [
      "Spiller A er vinneren!\n"
     ]
    }
   ],
   "source": [
    "poeng_a = 320\n",
    "poeng_b = 280\n",
    "\n",
    "if poeng_a > poeng_b:\n",
    "    print(\"Spiller A er vinneren!\")\n",
    "elif poeng_a == poeng_b:\n",
    "    print(\"Det er uavgjort!\")\n",
    "else:\n",
    "    print(\"Spiller B er vinneren!\")"
   ]
  },
  {
   "cell_type": "markdown",
   "metadata": {},
   "source": [
    "Her sjekkes først den første testen, hvis den er sann kjøres koden i den blokka og resten hoppes over. Hvis den første blokka er falsk, så sjekkes den neste, og så videre. Til slutt, hvis ingen andre blokker har kjørt, så kjøres *else*-blokka. Merk at testene ikke trenger å være ekskluderende. Vi kan for eksempel først sjekke om spiller A vinner med minst 100 poeng, og så sjekke om han vant."
   ]
  },
  {
   "cell_type": "code",
   "execution_count": 63,
   "metadata": {},
   "outputs": [
    {
     "name": "stdout",
     "output_type": "stream",
     "text": [
      "Overhvelmende seier til spiller A!\n"
     ]
    }
   ],
   "source": [
    "poeng_a = 480\n",
    "poeng_b = 220\n",
    "\n",
    "if poeng_a > poeng_b + 100:\n",
    "    print(\"Overhvelmende seier til spiller A!\")\n",
    "elif poeng_a > poeng_b:\n",
    "    print(\"Seier til spiller A!\")\n",
    "else:\n",
    "    print(\"Seier til spiller B!\")"
   ]
  },
  {
   "cell_type": "markdown",
   "metadata": {},
   "source": [
    "Her er begge de to første betingelsene sanne, men det er bare den første blokka som kjøres, for så fort en blokk er kjørt, hopper vi over resten."
   ]
  },
  {
   "cell_type": "markdown",
   "metadata": {},
   "source": [
    "### Testbetingelser\n",
    "\n",
    "Her er noen vanlige testbetingelser\n",
    "\n",
    "\n",
    "Matematisk symbol |   Kode                      | Tolkning\n",
    "------------------|-----------------------------|-----------\n",
    "  $a < v$         | `a` er større enn `b`       |  `a > b` \n",
    "  $a > v$         | `a` er mindre enn `b`       |  `a < b`  \n",
    "  $a = v$         | `a` og `b` er mindre        | `a == b` \n",
    "$a \\leq b$        | `a` er mindre eller lik `b` | `a <= b` \n",
    "$a \\geq b$        | `a` er større eller lik `b` | `a >= b` \n",
    "$a \\neq b$        | `a` er ulik fra `b`         | `a != b` \n",
    "\n",
    "Merk at hvordan *større enn* og *mindre enn* tolkes avhenger av hva slags type variabler vi snakker om. For tall er det jo ganske greit, men hva med for eksempel tekst? Her vil Python bruke den alfabetiske sorteringen, slik at for to tekststrenger vil `a < b` være sant hvis `a` ville blitt sortert før `b` om vi sorterterte dem alfabetisk.\n",
    "\n",
    "### Inversjon\n",
    "\n",
    "Når vi lager en test kan vi slenge inn en `not` for å invertere testen. For eksempel vil `if not a < b` være ekvivalent med `if b <= a`.\n",
    "\n",
    "### Boolsk logikk med `and`/`or`\n",
    "\n",
    "Om vi ønsker å sjekke to betingelser på én gang kan vi også gjøre dette. Da legger vi til en `and` i testen, for eksempel:\n",
    "\n",
    "```if a < b and b < c```\n",
    "\n",
    "Siden vi skriver `and` så vil if-testen være sann hvis og bare hvis *begge* testene er sanne, i dette tilfellet ser vi altså at `b` må ligge imellom `a` og `c`. \n",
    "\n",
    "Kanskje vi vil ha en test der det holder at én av dem er sanne? Dette gjør vi ved å legge til `or`\n",
    "\n",
    "```if a < b or b < c```\n",
    "\n",
    "Her betyr *or* \"eller\", her holder det altså at `b` er større enn `a`, eller at `b` er mindre en `c`, om en av disse er sanne så regnes testen som sann. Er begge to sanne regnes også testen som sann. \n",
    "\n",
    "Disse betingelsene og måtene å kombinere dem på kalles gjerne Boolsk logic, etter matermatikeren George Boole. Bolsk logikk er et av fundamentene for datamaskiner, for på det laveste nivået foregår alt som 0 og 1, der 0 kan tolkes som *falskt* og 1 som *sann*. Det å behandle og manipulere disse tallene går altså stort sett ut på å bruke boolsk logikk riktig.\n",
    "\n",
    "<img src=\"fig/boolsk_logikk.png\" width=400>"
   ]
  },
  {
   "cell_type": "markdown",
   "metadata": {},
   "source": [
    "#### Vanlig feil: Å sjekke om to ting er like\n",
    "\n",
    "Merk i tabellen at vi skriver `==` for å sjekke om verdien til to variabler er like hverandre. Dette er fordi vi bruker ett likhetstegn for å sette en variabel, og derfor blir Python forvirret om vi skriver `if poeng_a = poeng_b:`, for her tror Python vi ønsker å definere en ny variabel, og det vil vi jo ikke. Dette gir forøvring en `SyntaxError`. Det er veldig lett å skrive ett likhetstegn istedenfor to, og dette er derfor en veldig vanlig feil:"
   ]
  },
  {
   "cell_type": "code",
   "execution_count": 33,
   "metadata": {},
   "outputs": [
    {
     "ename": "SyntaxError",
     "evalue": "invalid syntax (<ipython-input-33-e219412fbecb>, line 1)",
     "output_type": "error",
     "traceback": [
      "\u001b[0;36m  File \u001b[0;32m\"<ipython-input-33-e219412fbecb>\"\u001b[0;36m, line \u001b[0;32m1\u001b[0m\n\u001b[0;31m    if poeng_a = poeng_b:\u001b[0m\n\u001b[0m               ^\u001b[0m\n\u001b[0;31mSyntaxError\u001b[0m\u001b[0;31m:\u001b[0m invalid syntax\n"
     ]
    }
   ],
   "source": [
    "if poeng_a = poeng_b:\n",
    "    print(\"Uavgjort!\")"
   ]
  },
  {
   "cell_type": "markdown",
   "metadata": {},
   "source": [
    "#### Progamflyt i if-tester\n",
    "\n",
    "Vi kan skissere flyten av programmet i de tre tilfellene som følger\n",
    "\n",
    "<img src=\"fig/tester.png\" width=700>\n",
    "\n",
    "I tilfellet helt til venstre har vi kun en `if`-blokk. Denne kjøres om betingelsen er sann, men om betingelsen er falsk så skjer ingenting, vi bare hopper blokken og fortsetter. I den midterste har vi en `if`-blokk og en `else`-blokk. Nå må en av de to blokkene skje. Til slutt har vi en situasjon med tre blokker: `if`, `elif` og `else`. Her testes først det første betingelsen, om den er sann skjer `if`-blokka og vi er ferdig. Om den første betingelsen er falsk, så sjekkes neste betingelse. Dette forklarer også hvorfor vi skriver `elif`, det er en sammenslåing av `else if`. For vi kunne også laget den samme tre-veis testen som følger\n",
    "\n",
    "```Python\n",
    "if <betingelse 1>:\n",
    "    <kode>\n",
    "else:\n",
    "    if <betingelse 2>:\n",
    "        <kode>\n",
    "    else:\n",
    "        <kode>\n",
    "```"
   ]
  },
  {
   "cell_type": "markdown",
   "metadata": {},
   "source": [
    "### Eksempel: Quiz\n",
    "\n",
    "La oss lage en enkel tekstbasert quiz. Programmet stiller et spørsmål til brukeren, så må brukeren skrive inn svaret sitt, så bruker vi en `if`-test til å sjekke om brukeren har rett."
   ]
  },
  {
   "cell_type": "code",
   "execution_count": 32,
   "metadata": {},
   "outputs": [
    {
     "name": "stdout",
     "output_type": "stream",
     "text": [
      "Hva er hovedtaden i Portugal?\n",
      "Madrid\n",
      "Feil! Riktig svar var Lisboa\n"
     ]
    }
   ],
   "source": [
    "svar = input(\"Hva er hovedtaden i Portugal?\\n\")\n",
    "fasitsvar = \"Lisboa\"\n",
    "\n",
    "if svar == fasitsvar:\n",
    "    print(\"Riktig!\")\n",
    "else:\n",
    "    print(\"Feil! Riktig svar var {}\".format(fasitsvar))"
   ]
  },
  {
   "cell_type": "markdown",
   "metadata": {},
   "source": [
    "Her kan vi forbedre quizzen vår ved å legge til flere spørsmål, og så holde styr på antall poeng brukeren har. Om man lager mange spørsmål har man kanskje også lyst til å stokke om på rekkefølgen med spørsmål og bare bruke noen av dem. Man kan også legge til svaralternativer."
   ]
  },
  {
   "cell_type": "markdown",
   "metadata": {},
   "source": [
    "En ting som er litt dumt med quizzen vi lager er at svaret må matche *nøyaktig* med fasitsvaret, om man for eksempel svarer `lisboa` vil det slå ut som feil (Python tolker store og små bokstaver som forskjellige symboler. Dette kan vi fikse ved å skrive fasitsvaret vårt som `lisboa` og bruke metoden `.lower()` på svaret fra brukeren, som gjør at svarer tolkes som småbokstaver, uansett."
   ]
  },
  {
   "cell_type": "code",
   "execution_count": 35,
   "metadata": {},
   "outputs": [
    {
     "name": "stdout",
     "output_type": "stream",
     "text": [
      "lisboa\n",
      "lisboa\n",
      "lisboa\n"
     ]
    }
   ],
   "source": [
    "print(\"lisboa\".lower())\n",
    "print(\"Lisboa\".lower())\n",
    "print(\"LISBOA\".lower())"
   ]
  },
  {
   "cell_type": "code",
   "execution_count": 37,
   "metadata": {},
   "outputs": [
    {
     "name": "stdout",
     "output_type": "stream",
     "text": [
      "Riktig!\n"
     ]
    }
   ],
   "source": [
    "poeng = 0\n",
    "svar = \"LiSboa\"\n",
    "fasitsvar = \"lisboa\"\n",
    "\n",
    "if svar.lower() == fasitsvar:\n",
    "    poeng += 1\n",
    "    print(\"Riktig!\")\n",
    "else:\n",
    "    print(\"Feil! Riktig svar er Lisboa!\")"
   ]
  },
  {
   "cell_type": "markdown",
   "metadata": {},
   "source": [
    "Tilsvarende kunne vi tatt hensyn til andre små forskjeller som skrivefeil, ekstra mellomrom osv. Men dette velger vi å ikke ta hensyn til."
   ]
  },
  {
   "cell_type": "markdown",
   "metadata": {},
   "source": [
    "#### Eksempel: Tekstbaserte spill\n",
    "\n",
    "Å lage spill med grafikk er litt komplisert, men man kan begynne å lage enkle, tekstbaserte spill. Historisk sett var de aller første dataspillene tekstbaserte, grunnet få muligheter til å implementere grafikk på gamle datamaskiner. Noen av de mest kjente er *Adventure*, som først kom ut i 1976 og *Zork* i 1977. I disse spillene får spilleren en tekst som beskriver situasjonen de er i, så må de gjøre valg og handlinger ved å skrive dem inn i terminalen.\n",
    "\n",
    "Etterhvert som grafikk begynnte å komme på banen fikk disse spillene enkel grafikk som vistes på skjerm utifra det brukeren skrev, men brukeren måtte fortsatt skrive kommandoene sine på bunn av vinduet, og de fikk også ofte tekstbasert informasjon.\n",
    "\n",
    "<img src=\"https://upload.wikimedia.org/wikipedia/en/9/90/Sq3junkyard.JPG\">\n",
    "Dette bildet er fra Space Quest 3, som ble gitt ut i 1989.\n",
    "\n",
    "Man kan begynne å lage enkle tekstbaserte spill selv. Disse blir gjerne litt korte, men det kan fortsatt være gøy for noen å lage små historier der brukerene kan ta egne valg."
   ]
  },
  {
   "cell_type": "markdown",
   "metadata": {},
   "source": [
    "# Plotting\n",
    "\n",
    "Vi skal nå se hvordan vi kan bruke Python til å tegne grafer. Når vi skal tegne en graf for hånd bruker vi et ruteark og lager et koordinatsystem. Når vi har koordinatsystemet regner vi oss frem til en rekke (x, y) punkter som vi tegner inn, deretter trekker vi streker igjennom punktene for å få kurven vår.\n",
    "\n",
    "Å tegne en graf i Python fungerer helt likt, vi kaller det å *plotte*. Funksjonen `plot(x, y)` tar to lister som input, en med x-verdier, og en med y-verdier. Vi får tilgang på `plot` når vi importerer fra pylab."
   ]
  },
  {
   "cell_type": "markdown",
   "metadata": {},
   "source": [
    "### Plotte en rett linje\n",
    "\n",
    "La oss si vi ønsker å tegne linja\n",
    "$$y = 3x-5,$$\n",
    "for $x$ fra -10 til 10. Vi ser fra uttrykket at dette er en rett linje, så det holder å regne oss frem til y-verdien ved de to endepunktene, som blir\n",
    "$$y(-10) = -35, \\qquad y(10) = 25.$$\n",
    "Da kan vi tegne kurven som følger\n"
   ]
  },
  {
   "cell_type": "code",
   "execution_count": 6,
   "metadata": {},
   "outputs": [
    {
     "data": {
      "text/plain": [
       "<Figure size 640x480 with 1 Axes>"
      ]
     },
     "metadata": {},
     "output_type": "display_data"
    }
   ],
   "source": [
    "from pylab import *\n",
    "\n",
    "x = [-10, 10]\n",
    "y = [-35, 25]\n",
    "\n",
    "plot(x, y)\n",
    "show()"
   ]
  },
  {
   "cell_type": "markdown",
   "metadata": {},
   "source": [
    "Vi bruker `show`-kommandoen for å få plottet til å dukke opp på skjermen. Vi kan også pynte på plottet vårt ved å gi navn til aksene, legge på et rutenett, bestemme aksene osv. Dette må vi gjøre mellom `plot` og `show`."
   ]
  },
  {
   "cell_type": "code",
   "execution_count": 7,
   "metadata": {},
   "outputs": [
    {
     "data": {
      "image/png": "[encoded data removed]",
      "text/plain": [
       "<Figure size 432x288 with 1 Axes>"
      ]
     },
     "metadata": {},
     "output_type": "display_data"
    }
   ],
   "source": [
    "plot(x, y)\n",
    "title('y = 3x - 5')\n",
    "xlabel('X')\n",
    "ylabel('Y')\n",
    "grid()\n",
    "axis([-10, 10, -25, 25])\n",
    "show()"
   ]
  },
  {
   "cell_type": "markdown",
   "metadata": {},
   "source": [
    "Her setter `title`, `xlabel` og `ylabel` navn på aksene og plottet, `grid()` lager et rutenett og `axis` bestemmer vinduet ved at vi sender in en liste `[xmin, xmax, ymin, ymax]`. Kanskje vi ikke vil ha et fullt rutenett, men bare selve aksene, da kan vi legge til en vertikal og horizontal linje som følger"
   ]
  },
  {
   "cell_type": "code",
   "execution_count": 8,
   "metadata": {},
   "outputs": [
    {
     "data": {
      "image/png": "[encoded data removed]",
      "text/plain": [
       "<Figure size 432x288 with 1 Axes>"
      ]
     },
     "metadata": {},
     "output_type": "display_data"
    }
   ],
   "source": [
    "plot(x, y)\n",
    "axvline(0, color='black')\n",
    "axhline(0, color='black')\n",
    "axis((-10, 10, -25, 25))\n",
    "show()"
   ]
  },
  {
   "cell_type": "markdown",
   "metadata": {},
   "source": [
    "### Plotte en annengradsfunksjon\n",
    "\n",
    "La oss prøve å plotte en funksjon som trenger litt flere punkter. Vi tar annengradsfunksjonen\n",
    "$$f(x) = x^2 - 4x + 4.$$\n",
    "Nå må vi regne ut en lengre rekke med $x$ og $y$ verdier for at vi skal få en fin kurve. Vi kunne gjort dette for hånd og plugget inn tallene i koden vår, men det tar mye arbeid. Så la oss heller gjøre det med løkker.\n",
    "\n",
    "Først definerer vi funksjonen vår"
   ]
  },
  {
   "cell_type": "code",
   "execution_count": 9,
   "metadata": {},
   "outputs": [],
   "source": [
    "def f(x):\n",
    "    return x**2 - 4*x + 4"
   ]
  },
  {
   "cell_type": "markdown",
   "metadata": {},
   "source": [
    "Så lager vi $x$ og $y$ verdiene våres ved hjelp av en for-løkke."
   ]
  },
  {
   "cell_type": "code",
   "execution_count": 10,
   "metadata": {},
   "outputs": [
    {
     "name": "stdout",
     "output_type": "stream",
     "text": [
      "[-5, -4, -3, -2, -1, 0, 1, 2, 3, 4, 5]\n",
      "[49, 36, 25, 16, 9, 4, 1, 0, 1, 4, 9]\n"
     ]
    }
   ],
   "source": [
    "x = []\n",
    "y = []\n",
    "\n",
    "for xverdi in range(-5, 6):\n",
    "    x.append(xverdi)\n",
    "    y.append(f(xverdi))\n",
    "    \n",
    "print(x)\n",
    "print(y)"
   ]
  },
  {
   "cell_type": "code",
   "execution_count": 11,
   "metadata": {},
   "outputs": [
    {
     "data": {
      "image/png": "[encoded data removed]",
      "text/plain": [
       "<Figure size 432x288 with 1 Axes>"
      ]
     },
     "metadata": {},
     "output_type": "display_data"
    }
   ],
   "source": [
    "plot(x, y)\n",
    "show()"
   ]
  },
  {
   "cell_type": "markdown",
   "metadata": {},
   "source": [
    "Vi ser at funksjonen blir litt hakkete, dette er fordi Python trekker en rett strek mellom punktene vi gir inn. Dette kan vi vise ved å skrive `plot(x, y, 'o-')`. Her sier vi at vi skal plotte prikker på selve punktene, og en strek mellom dem: `o-`. Vi kunne også bare plottet prikker (`o`), plottet prikker med stiplede linjer mellom `o--`, bare plottet stiplede linjer `--`. Vi kunne også brukt andre former, `x` er for eksempel kryss."
   ]
  },
  {
   "cell_type": "code",
   "execution_count": 12,
   "metadata": {},
   "outputs": [
    {
     "data": {
      "image/png": "[encoded data removed]",
      "text/plain": [
       "<Figure size 432x288 with 1 Axes>"
      ]
     },
     "metadata": {},
     "output_type": "display_data"
    }
   ],
   "source": [
    "plot(x, y, 'o-')\n",
    "show()"
   ]
  },
  {
   "cell_type": "markdown",
   "metadata": {},
   "source": [
    "#### Eksempel: Kvadrat og kubikktall\n",
    "\n",
    "Vi vil nå se litt på hvor fort kvadrattall og kubiktall vokser. Vi regner derfor først ut de første 11 kvadrattallene og kubikktallene (medregnet 0) og plotter sammen med den rette linjen $y=x$. For å plotte flere kurver i samme figur kaller vi bare på `plot` flere ganger før vi bruker `show`. Hver kurve vil få en annerledes farge for lettere å skille på dem (vi kan også velge farge selv ved å bruke for eksempel `plot(x, y, color=\"blue\")`."
   ]
  },
  {
   "cell_type": "code",
   "execution_count": 13,
   "metadata": {},
   "outputs": [],
   "source": [
    "x = [] \n",
    "kvadrattall = []\n",
    "kubikktall = []\n",
    "for i in range(11):\n",
    "    x.append(i)\n",
    "    kvadrattall.append(i**2)\n",
    "    kubikktall.append(i**3)"
   ]
  },
  {
   "cell_type": "code",
   "execution_count": 14,
   "metadata": {},
   "outputs": [
    {
     "data": {
      "image/png": "[encoded data removed]",
      "text/plain": [
       "<Figure size 432x288 with 1 Axes>"
      ]
     },
     "metadata": {},
     "output_type": "display_data"
    }
   ],
   "source": [
    "plot(x, x, 'o--')\n",
    "plot(x, kvadrattall, 'o--')\n",
    "plot(x, kubikktall, 'o--')\n",
    "\n",
    "show()"
   ]
  },
  {
   "cell_type": "markdown",
   "metadata": {},
   "source": [
    "Her er det ikke så vanskelig å skjønne hvilken kurve som er hvilken, men om det skulle vært det kan det være lurt å legge på en *legend*. Vi zoomer også litt inn på y-aksen ved hjelp av `axis`, så vi kan se forskjellen på de to mindre kurvene lettere."
   ]
  },
  {
   "cell_type": "code",
   "execution_count": 15,
   "metadata": {},
   "outputs": [
    {
     "data": {
      "image/png": "[encoded data removed]",
      "text/plain": [
       "<Figure size 432x288 with 1 Axes>"
      ]
     },
     "metadata": {},
     "output_type": "display_data"
    }
   ],
   "source": [
    "plot(x, kubikktall, 'o--', label='kubiktall')\n",
    "plot(x, kvadrattall, 'o--', label='kvadrattall')\n",
    "plot(x, x, 'o--', label='y=x')\n",
    "legend()\n",
    "axis((0, 10, 0, 200))\n",
    "show()"
   ]
  },
  {
   "cell_type": "markdown",
   "metadata": {},
   "source": [
    "Så regner vi ut de tilhørende y-verdiene"
   ]
  },
  {
   "cell_type": "markdown",
   "metadata": {},
   "source": [
    "### Å plotte jevne kurver\n",
    "\n",
    "For å få en fin og jevn kurve burde vi ha flest mulig punkter. La oss for eksempel si vi skal lage en sinuskurve (ikke ungdomsskolepensum, men et bra eksempel). La oss si vi ønsker å tegne sinus fra 0 til 360 grader. Om vi velger et punkt hver 90 grad blir ikke dette så bra."
   ]
  },
  {
   "cell_type": "code",
   "execution_count": 16,
   "metadata": {},
   "outputs": [
    {
     "name": "stdout",
     "output_type": "stream",
     "text": [
      "[0, 90, 180, 270, 360]\n",
      "[0.0, 1.0, 1.2246467991473532e-16, -1.0, -2.4492935982947064e-16]\n"
     ]
    }
   ],
   "source": [
    "x = []\n",
    "y = []\n",
    "\n",
    "for vinkel in range(0, 360+1, 90):\n",
    "    x.append(vinkel)\n",
    "    y.append(sin(deg2rad(vinkel)))\n",
    "    \n",
    "print(x)\n",
    "print(y)"
   ]
  },
  {
   "cell_type": "markdown",
   "metadata": {},
   "source": [
    "Her bruker vi `deg2rad` fordi de trigonometriske funksjonene som `sin` tar radianer inn, ikke grader."
   ]
  },
  {
   "cell_type": "code",
   "execution_count": 17,
   "metadata": {},
   "outputs": [
    {
     "data": {
      "image/png": "[encoded data removed]",
      "text/plain": [
       "<Figure size 432x288 with 1 Axes>"
      ]
     },
     "metadata": {},
     "output_type": "display_data"
    }
   ],
   "source": [
    "plot(x, y, 'o-')\n",
    "xlabel(r'$\\theta$')\n",
    "ylabel(r'$\\sin(\\theta)$')\n",
    "show()"
   ]
  },
  {
   "cell_type": "markdown",
   "metadata": {},
   "source": [
    "La oss prøve hver 45 grad isteden"
   ]
  },
  {
   "cell_type": "code",
   "execution_count": 18,
   "metadata": {},
   "outputs": [
    {
     "data": {
      "image/png": "[encoded data removed]",
      "text/plain": [
       "<Figure size 432x288 with 1 Axes>"
      ]
     },
     "metadata": {},
     "output_type": "display_data"
    }
   ],
   "source": [
    "x = []\n",
    "y = []\n",
    "\n",
    "for vinkel in range(0, 360+1, 45):\n",
    "    x.append(vinkel)\n",
    "    y.append(sin(deg2rad(vinkel)))\n",
    "\n",
    "plot(x, y, 'o-')\n",
    "show()"
   ]
  },
  {
   "cell_type": "markdown",
   "metadata": {},
   "source": [
    "Nå begynner sinuskurva å komme frem. Den er fortsatt hakkete og ikke så veldig pen, men vi ser ihvertfall mer av formen. Vi prøver nå med et punkt per grad, da vil punktene ligge så nær hverandre at de overlapper i plottet, så vi endrer samtidig til å bare plotte linjer mellom punktene."
   ]
  },
  {
   "cell_type": "code",
   "execution_count": 19,
   "metadata": {},
   "outputs": [
    {
     "data": {
      "image/png": "[encoded data removed]",
      "text/plain": [
       "<Figure size 432x288 with 1 Axes>"
      ]
     },
     "metadata": {},
     "output_type": "display_data"
    }
   ],
   "source": [
    "x = []\n",
    "y = []\n",
    "\n",
    "for vinkel in range(0, 361, 1):\n",
    "    x.append(vinkel)\n",
    "    y.append(sin(deg2rad(vinkel)))\n",
    "\n",
    "plot(x, y, '-')\n",
    "show()"
   ]
  },
  {
   "cell_type": "markdown",
   "metadata": {},
   "source": [
    "I dett eksempelet kan det godt være vi hadde fått en like fin kurve om vi hadde brukt et punkt hver 5 grad, eller tilogmed kanskje hver 10 grad, men samtidig regner jo datamaskinen veldig raskt - så vi kan like greit bruke mange punkter."
   ]
  },
  {
   "cell_type": "markdown",
   "metadata": {},
   "source": [
    "Si vi ønsket å tegne en sinuskurve i radianer isteden. La oss si vi ønsker å plotte mellom 0 og $8\\pi$, her blir jo $8\\pi$ et desimaltall, og om vi ønsker hundrevis av punkter så blir steget mellom to punkter også veldig lite. Her fungerer ikke `range` lenger, fordi den funksjonen er laget for kun å fungere med heltall. Det finnes to andre nyttige funksjoner vi kan bruke i dette tilfellet.\n",
    "\n",
    "Den første funksjonen er `arange`, som oppfører seg helt likt som range, men som tar desimaltall, her kunne vi for eksempel skrevet `arange(0, 8*pi, 0.1)`. Den andre er `linspace`, som står for *linear space*. Funksjonen tar tre verdier inn `linspace(min, max, antall)` og gir tilbake punkter som ligger jevnt fordelt mellom minimum og maksimumsverdien. Så når vi har lyst å plotte mellom 0 og $8*pi$ kan vi for eksempel skrive `linspace(0, 8*pi, 500)` og vi får 500 punkter og en jevn kurve."
   ]
  },
  {
   "cell_type": "code",
   "execution_count": 26,
   "metadata": {},
   "outputs": [
    {
     "data": {
      "image/png": "[encoded data removed]",
      "text/plain": [
       "<Figure size 432x288 with 1 Axes>"
      ]
     },
     "metadata": {},
     "output_type": "display_data"
    }
   ],
   "source": [
    "x = []\n",
    "y = []\n",
    "\n",
    "for radianer in linspace(0, 8*pi, 500):\n",
    "    x.append(radianer)\n",
    "    y.append(sin(radianer))\n",
    "    \n",
    "plot(x, y)\n",
    "show()"
   ]
  },
  {
   "cell_type": "markdown",
   "metadata": {},
   "source": [
    "Man kan også bruke `arange` og `linspace` utenfor løkker."
   ]
  },
  {
   "cell_type": "code",
   "execution_count": 29,
   "metadata": {},
   "outputs": [
    {
     "name": "stdout",
     "output_type": "stream",
     "text": [
      "[ 0.  1.  2.  3.  4.  5.  6.  7.  8.  9. 10.]\n",
      "<class 'numpy.ndarray'>\n"
     ]
    }
   ],
   "source": [
    "x = linspace(0, 10, 11)\n",
    "print(x)\n",
    "print(type(x))"
   ]
  },
  {
   "cell_type": "markdown",
   "metadata": {},
   "source": [
    "Her er en liten teknisk detalj: Det `linspace` gir her er `arrays`, dette er en datatype som er laget for å oppbevare matematiske matriser, og det er spesiallagd for å regne på ting. En fordel med dette er at ting er *vektoriserte*, som betyr at vi kan sende inn et helt array med tall til for eksempel `sin`, som gjør at man kan komme unna med mindre kode og ting går raskere:"
   ]
  },
  {
   "cell_type": "code",
   "execution_count": 30,
   "metadata": {},
   "outputs": [
    {
     "data": {
      "image/png": "[encoded data removed]",
      "text/plain": [
       "<Figure size 432x288 with 1 Axes>"
      ]
     },
     "metadata": {},
     "output_type": "display_data"
    }
   ],
   "source": [
    "x = linspace(0, 12*pi, 500)\n",
    "plot(x, sin(x))\n",
    "show()"
   ]
  },
  {
   "cell_type": "markdown",
   "metadata": {},
   "source": [
    "Dette kan være fint når man vet hva man driver med, men det er en mindre intuitiv og gjennomsiktig prosess for nybegynner, og spesielt med elever kan det være lurt å ta ting steg for steg ved hjelp av en løkke."
   ]
  },
  {
   "cell_type": "markdown",
   "metadata": {},
   "source": [
    "# While-løkker\n",
    "\n",
    "Vi har allerede sett på løkker i Python, nemlig for-løkker. Nå skal vi gå igjennom den andre hovedtypen med løkker som vi finner i Python: *while*-løkker. While løkker minner litt om en *if*-test, når koden kommer til while-løkka vil den sjekke en betingelse, og koden forgrener seg avhengig om betingelsen er sann eller falsk. Forskjellen fra en if-test er at etter kodeblokken er kjørt, så hopper koden tilbake av starten av løkka og sjekker betingelsen på nytt. Om betingelsen fortsatt er sann, så kjøres løkka på nytt. Så sjekkes løkka på nytt osv."
   ]
  },
  {
   "cell_type": "markdown",
   "metadata": {},
   "source": [
    "Vi kan tegne situasjonen som dette:\n",
    "<img src=\"fig/while_loop.png\" width=200>"
   ]
  },
  {
   "cell_type": "markdown",
   "metadata": {},
   "source": [
    "Syntaksen for en *while*-løkke er som følger\n",
    "\n",
    "```Python\n",
    "while <betingelse>:\n",
    "    <kodeblokk>\n",
    "    <kodeblokk>\n",
    "    <kodeblokk>\n",
    "```\n",
    "\n",
    "Løkken har altså akkurat samme form som en if-test uten en else-blokk (eller \"hvis-så\", som vi kalte den), forskjellen er at kodeblokken kan gjentas mange ganger.\n",
    "\n",
    "La oss se på et eksempel:"
   ]
  },
  {
   "cell_type": "code",
   "execution_count": 38,
   "metadata": {},
   "outputs": [
    {
     "name": "stdout",
     "output_type": "stream",
     "text": [
      "1\n",
      "2\n",
      "3\n",
      "4\n",
      "5\n",
      "6\n",
      "7\n",
      "8\n",
      "9\n",
      "10\n"
     ]
    }
   ],
   "source": [
    "teller = 0\n",
    "\n",
    "while teller < 10:\n",
    "    teller += 1\n",
    "    print(teller)"
   ]
  },
  {
   "cell_type": "markdown",
   "metadata": {},
   "source": [
    "Her lager vi først en tellevariabel, så har vi en while-løkke der betingelsen er at `teller < 10`. Siden vi definerte `teller` til å starte som 0 vil denne testen være sann. Da kjøres kodeblokken, her økes `teller` til 1 og vi skriver den ut, så vi får 1 på skjermen. Så sjekkes betingelsen på nytt, `1 < 10` er også sant, så vi øker telleren til 2 og skriver det ut til skjermen. Slik fortsetter det helt til betingelsen sjekker at `9 < 10` som sann, så vi legger til 1, får 10, skriver dette ut, og så sjekker vi og får `10 < 10` som gir falskt. Dermed blir 10 det siste som skrives ut, og ikke 9 eller 11."
   ]
  },
  {
   "cell_type": "markdown",
   "metadata": {},
   "source": [
    "### Vanlig feil - Uendlige løkker\n",
    "\n",
    "Når man lager en for-løkke er det alltid et *endelig* antall repetisjoner, for vi løkker over en liste med en bestemt løkke. Med en *while*-løkke derimot, har vi ingen garanti for at løkken ikke vil gjenta seg selv uendlig mange ganger. Ta eksempel over for eksempel, la oss si vi glemmer linjen `teller += 1` og bare skriver\n",
    "\n",
    "```Python\n",
    "teller = 0\n",
    "while teller < 10:\n",
    "    print(teller)\n",
    "```\n",
    "Hva skjer nå? Jo, telleren skrives ut, som er `0`, så sjekkes betingelsen på nytt `0 < 10` er fortsatt sann, så vi gjentar løkka. Sånn fortsetter det inn i uendeligheten.  Det gjelder altså å være litt forsiktig med uendelige løkker.\n",
    "\n",
    "Uansett hvor forsiktige vi er, så kommer vi til å lage en uendelig løkke ved uhell en gang. Når det skjer, så må vi gå inn og avbryte kjøringen manuelt, i Jupyter kan vi gjøre dette ved å klikke på `Stopp`-symbolet i verktøylinja, eller klikke oss inn på `Kernel`->`Interrupt`. Etter man har avbrutt kjøringen kan man fikse på løkka og prøve igjen."
   ]
  },
  {
   "cell_type": "markdown",
   "metadata": {},
   "source": [
    "## Uendlige løkker med vilje\n",
    "\n",
    "Noen ganger vi man faktisk lage uendelig løkker med vilje. Dette kan man gjøre ved å skrive\n",
    "```Python\n",
    "while True:\n",
    "    <kodeblokk>\n",
    "```\n",
    "Her vil \"betingelsen\" sjekkes hver gang og være sann, slik at koden bare gjentar og gjentar seg selv. Vi kan inne i koden avbryte en slik løkke med `break` som bryter ut av en løkke (også for-løkker). Ta for eksempel dette programmet som ruller en terning hver gang brukeren trykker enter, men som avslutter om man skriver `slutt`."
   ]
  },
  {
   "cell_type": "code",
   "execution_count": 45,
   "metadata": {},
   "outputs": [
    {
     "name": "stdout",
     "output_type": "stream",
     "text": [
      "Trykk enter for å rulle en terning. Skriv `slutt` for å avslutte. \n",
      "4\n",
      "Trykk enter for å rulle en terning. Skriv `slutt` for å avslutte. \n",
      "4\n",
      "Trykk enter for å rulle en terning. Skriv `slutt` for å avslutte. \n",
      "3\n",
      "Trykk enter for å rulle en terning. Skriv `slutt` for å avslutte. \n",
      "6\n",
      "Trykk enter for å rulle en terning. Skriv `slutt` for å avslutte. \n",
      "5\n",
      "Trykk enter for å rulle en terning. Skriv `slutt` for å avslutte. slutt\n"
     ]
    }
   ],
   "source": [
    "while True:\n",
    "    svar = input(\"Trykk enter for å rulle en terning. Skriv `slutt` for å avslutte. \")\n",
    "    if svar == \"slutt\":\n",
    "        break\n",
    "    else:\n",
    "        print(randint(1, 6)+1)"
   ]
  },
  {
   "cell_type": "markdown",
   "metadata": {},
   "source": [
    "### For- eller while-løkke?\n",
    "\n",
    "Vi har nå sett begge typene med løkker i Python. De to er noe forskjellig, men ikke voldsomt. Det er faktisk slik at alle typer problemer man kan løse med en for-løkke kan man også gjøre med en while-løkke, og motsatt. Det er derimot ikke sikkert at koden blir like intuitiv eller elegant med begge variantene.\n",
    "\n",
    "For-løkker er nyttige når vi vet akkurat hva vi ønsker å løkke over, for eksempel en bestemt tallrekke, eller vi vet hvor mange ganger noe skal gjentas. While-løkker er mer nyttig når vi *ikke* vet hvor mange ganger noe skal gjentas, vi bare vet hva vi ønsker å oppnå.\n",
    "\n",
    "Det er også debatt om hvilke løkker det er lurest å lære bort først. Noen mener at *while*-løkker er mer intuitive og lette og forstå seg på, mens andre mener *for*-løkker er mer rett frem. Her er det ingen fasitsvar. Det som derimot *er* lurt, er å dekke if-testen før while-løkker og lister før for-løkker."
   ]
  },
  {
   "cell_type": "markdown",
   "metadata": {},
   "source": [
    "### Eksempel: Høyrentekonto\n",
    "\n",
    "\n",
    "Når vi diskuterte for-løkker så vi på et eksempel der vi regnet ut hvor mye penger som var på en sparekonto for hvert år som gikk, når vi begynnte med 10000. Nå kan vi snu spørsmålet på hodet og si: *hvor mange år må vi vente før vi har 20000 kroner på kontoen?*. While-løkker er perfekte for å besvare spørsmål av denne typen."
   ]
  },
  {
   "cell_type": "markdown",
   "metadata": {},
   "source": [
    "Vi kan starte med å definere en variabel `penger` som vi setter til våre opprinnelig 10000 kroner. Vi kan nå lage en løkke med betingelsen `while penger < 20000`. Inne i løkka må vi legge på den årlige renta og oppdatere `penger`, på denne måten vil mengden penger øke for hver *iterasjon*, og vi unngår en uendelig løkke. I tillegg må vi ha en variabel som teller antall ganger løkka har gjentatt seg, for det er jo dette vi egentlig er ute etter."
   ]
  },
  {
   "cell_type": "code",
   "execution_count": 48,
   "metadata": {},
   "outputs": [
    {
     "name": "stdout",
     "output_type": "stream",
     "text": [
      "Du må vente i 21 år, og det er da 20594 kroner på konto\n"
     ]
    }
   ],
   "source": [
    "penger = 10000\n",
    "år = 0 \n",
    "\n",
    "while penger < 20000:\n",
    "    penger *= 1.035\n",
    "    år += 1\n",
    "    \n",
    "print(\"Du må vente i {} år, og det er da {:.0f} kroner på konto\".format(år, penger))"
   ]
  },
  {
   "cell_type": "markdown",
   "metadata": {},
   "source": [
    "Her har vi valgt å bare skrive ut sluttsvaret, men man kan også fint legge inn en `print` inne i løkka og se hvordan pengemengden vokser etterhvert."
   ]
  },
  {
   "cell_type": "markdown",
   "metadata": {},
   "source": [
    "#### Plotte høyrentekonto\n",
    "\n",
    "La oss gå inn og plotte pengene på konto for hvert år i forrige eksempel. Når vi skal plotte alle årene istedet for å skrive ut må vi ha lister istedenfor tall. Her finnes det to måter vi kan gjøre dette på. Vi kan enten ha listevariabler *i tilegg* til de vi hadde originalt:"
   ]
  },
  {
   "cell_type": "code",
   "execution_count": 49,
   "metadata": {},
   "outputs": [],
   "source": [
    "penger = 10000\n",
    "år = 0\n",
    "\n",
    "penger_liste = []\n",
    "år_liste = []\n",
    "\n",
    "while penger < 20000:\n",
    "    penger *= 1.035\n",
    "    år += 1\n",
    "    \n",
    "    penger_liste.append(penger)\n",
    "    år_liste.append(år)"
   ]
  },
  {
   "cell_type": "markdown",
   "metadata": {},
   "source": [
    "Eller vi kan kun bruke lister, og bruke `[-1]` for å hente ut resultatet fra forrige iterasjon"
   ]
  },
  {
   "cell_type": "code",
   "execution_count": 52,
   "metadata": {},
   "outputs": [],
   "source": [
    "penger = [10000]\n",
    "år = [0]\n",
    "\n",
    "while penger[-1] < 20000:\n",
    "    penger.append(1.035*penger[-1])\n",
    "    år.append(år[-1] + 1)"
   ]
  },
  {
   "cell_type": "markdown",
   "metadata": {},
   "source": [
    "Uansett hvilken måte vi foretrekker blir resultatene like"
   ]
  },
  {
   "cell_type": "code",
   "execution_count": 62,
   "metadata": {},
   "outputs": [
    {
     "data": {
      "image/png": "[encoded data removed]",
      "text/plain": [
       "<Figure size 432x288 with 1 Axes>"
      ]
     },
     "metadata": {},
     "output_type": "display_data"
    }
   ],
   "source": [
    "plot(år, penger, 'o-')\n",
    "xlabel('Antall år på konto')\n",
    "ylabel('Penger på konto')\n",
    "axis((0, år[-1], 0, 22000))\n",
    "title('Høyrentekonto med 3.5% effektiv årlig rente')\n",
    "show()"
   ]
  },
  {
   "cell_type": "markdown",
   "metadata": {},
   "source": [
    "#### Eksempeloppgave: While-løkker for hånd\n",
    "\n",
    "Gå igjennom løkkene under for hånd og forutsi hva de kommer til å skrive ut. Etterpå kan du kjøre dem og se om du hadde rett. \n",
    "\n",
    "\n",
    "**Oppgave a)**\n",
    "```Python\n",
    "i = 0\n",
    "while i < 10:\n",
    "    i += 2\n",
    "    print(i)\n",
    "```\n",
    "\n",
    "**Oppgave b)**\n",
    "```Python\n",
    "i = 2\n",
    "while i < 10:\n",
    "    i = i**2 + 1\n",
    "    print(i)\n",
    "```\n",
    "\n",
    "**Oppgave c)**\n",
    "```Python\n",
    "a = 0\n",
    "b = 0\n",
    "c = 0\n",
    "\n",
    "while c < 10:\n",
    "    a += 1\n",
    "    b += a\n",
    "    c += a + b\n",
    "    \n",
    "print(a)\n",
    "print(b)\n",
    "print(c)\n",
    "```"
   ]
  }
 ],
 "metadata": {
  "kernelspec": {
   "display_name": "Python 3",
   "language": "python",
   "name": "python3"
  },
  "language_info": {
   "codemirror_mode": {
    "name": "ipython",
    "version": 3
   },
   "file_extension": ".py",
   "mimetype": "text/x-python",
   "name": "python",
   "nbconvert_exporter": "python",
   "pygments_lexer": "ipython3",
   "version": "3.6.5"
  }
 },
 "nbformat": 4,
 "nbformat_minor": 2
}
